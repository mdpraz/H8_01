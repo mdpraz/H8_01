{
 "cells": [
  {
   "cell_type": "markdown",
   "id": "64c791c2",
   "metadata": {},
   "source": [
    "# IF, ELSE, dan LOOP"
   ]
  },
  {
   "cell_type": "markdown",
   "id": "dd3f11ee",
   "metadata": {},
   "source": [
    "## Conditional\n",
    "\n",
    "Python mendukung logical conditions yang biasa dipakai dalam matematika, yaitu :\n",
    "- Equals a == b\n",
    "- Not equals a != b\n",
    "- Less than a < b\n",
    "- Less than or equal to a <= b\n",
    "- Greater than a > b \n",
    "- Greater than or equal to a >= b\n",
    "- These conditions can be used in several ways, most commonly in \"if statements\" and loops"
   ]
  },
  {
   "cell_type": "code",
   "execution_count": null,
   "id": "d85c176d",
   "metadata": {},
   "outputs": [],
   "source": [
    "x = 0\n",
    "y = 5"
   ]
  },
  {
   "cell_type": "code",
   "execution_count": null,
   "id": "5fbe2185",
   "metadata": {},
   "outputs": [],
   "source": [
    "# If statement : kita bisa melakukan eksekusi program yang sifatnya conditional"
   ]
  },
  {
   "cell_type": "code",
   "execution_count": null,
   "id": "471ba5c6",
   "metadata": {},
   "outputs": [],
   "source": [
    "#Python perlu yang namanya indentasi\n",
    "if x < y:       #true\n",
    "    print('yes')\n",
    "if y < x:       #false\n",
    "    print('yes')\n",
    "if x:           #false\n",
    "    print('yes')\n",
    "if y:           #true\n",
    "    print('yes')\n",
    "if 'aul' in 'grault':        #true\n",
    "    print('yes')\n",
    "if 'quux' in ['foo', 'bar', 'baz']:   #false\n",
    "    print('yes')\n",
    "if ('we' in ['we','wa','wo']):\n",
    "    print('ya benar')"
   ]
  },
  {
   "cell_type": "code",
   "execution_count": null,
   "id": "27f40160",
   "metadata": {
    "scrolled": false
   },
   "outputs": [],
   "source": [
    "print('we' in ['we','wa','wo'])"
   ]
  },
  {
   "cell_type": "markdown",
   "id": "98201468",
   "metadata": {},
   "source": [
    "# If, Elif, and Else Condition"
   ]
  },
  {
   "attachments": {
    "image.png": {
     "image/png": "[encoded data removed]"
    }
   },
   "cell_type": "markdown",
   "id": "5108dab6",
   "metadata": {},
   "source": [
    "![image.png](attachment:image.png)"
   ]
  },
  {
   "cell_type": "markdown",
   "id": "866ced71",
   "metadata": {},
   "source": []
  },
  {
   "cell_type": "code",
   "execution_count": null,
   "id": "f6b70377",
   "metadata": {},
   "outputs": [],
   "source": [
    "harga_jeruk = 50000\n",
    "standar_harga = 30000\n",
    "#apabila jeruk lebih dari standar harga maka jeruk itu mahal dan apabila kurang dari standar harga maka jeruk itu murah\n",
    "if harga_jeruk > standar_harga:\n",
    "    print('Mahal')\n",
    "elif harga_jeruk < standar_harga:\n",
    "    print('Murah')\n",
    "elif harga_jeruk == standar_harga:\n",
    "    print('Harga Normal')"
   ]
  },
  {
   "cell_type": "code",
   "execution_count": null,
   "id": "dc994680",
   "metadata": {},
   "outputs": [],
   "source": [
    "harga_jeruk = 30000\n",
    "standar_harga = 30000\n",
    "#apabila jeruk lebih dari standar harga maka jeruk itu mahal dan apabila kurang dari standar harga maka jeruk itu murah\n",
    "if harga_jeruk > standar_harga:\n",
    "    print('Mahal')\n",
    "elif harga_jeruk < standar_harga:\n",
    "    print('Murah')\n",
    "else:\n",
    "    print('Harga Normal')"
   ]
  },
  {
   "cell_type": "code",
   "execution_count": null,
   "id": "0f912aa4",
   "metadata": {},
   "outputs": [],
   "source": [
    "#Apabila jeruk lebih dari standar harga maka jeruk itu mahal dan apabila kurang dari sama dengan standar harga maka jeruk itu murah\n",
    "harga_jeruk = 70000\n",
    "standar_harga = 30000\n",
    "if harga_jeruk > standar_harga:\n",
    "    print('Mahal')\n",
    "else:\n",
    "    print('Harga Normal')"
   ]
  },
  {
   "cell_type": "code",
   "execution_count": null,
   "id": "9ee46aab",
   "metadata": {},
   "outputs": [],
   "source": [
    "#Apabila jeruk lebih dari standar harga maka jeruk itu mahal dan apabila kurang dari sama dengan standar harga maka jeruk itu murah\n",
    "harga_jeruk = int(input('input harga jeruk ='))\n",
    "standar_harga = 30000\n",
    "if harga_jeruk > standar_harga:\n",
    "    print('Mahal')\n",
    "else:\n",
    "    print('Harga Normal')"
   ]
  },
  {
   "cell_type": "code",
   "execution_count": null,
   "id": "af74dea9",
   "metadata": {},
   "outputs": [],
   "source": [
    "Total_pembelian = int(input(''))\n",
    "\n",
    "pembelian_pisang = int(input('total pembelian pisang='))\n",
    "standar_harga = 3000\n",
    "if pembelian_pisang > 100000:\n",
    "    print('Anda mendapatkan diskon 5%')\n",
    "elif pembelian_pisang >= 50000:\n",
    "    print('Anda mendapatkan diskon 10%')\n",
    "else:\n",
    "    print('Harga Normal')"
   ]
  },
  {
   "cell_type": "code",
   "execution_count": null,
   "id": "0233cb2a",
   "metadata": {},
   "outputs": [],
   "source": [
    "harga = int(input('total pembelian pisang ='))\n",
    "harga_awal = 3000\n",
    "diskon = 0.5\n",
    "if harga > 100000:\n",
    "    print('Anda mendapatkan diskon 10%')\n",
    "elif harga < 100000:\n",
    "    print('Anda mendapatkan diskon 5%')\n",
    "elif harga < 50000:\n",
    "    print('Anda tidak mendapatkan diskon')\n",
    "print('total belanja adalah IDR {} ({} di diskon {} % ) ' .format(harga, harga_awal, diskon*100))"
   ]
  },
  {
   "cell_type": "markdown",
   "id": "5d8229bc",
   "metadata": {},
   "source": [
    "# One-line if statements\n"
   ]
  },
  {
   "cell_type": "code",
   "execution_count": null,
   "id": "91421045",
   "metadata": {},
   "outputs": [],
   "source": [
    "harga_jeruk = 5000\n",
    "standar_harga = 30000\n",
    "if harga_jeruk > standar_harga : print('Mahal');print('Banget');print(i+1)\n",
    "elif harga_jeruk < standar_harga : print('Murah')\n",
    "else : print('Biasa')"
   ]
  },
  {
   "cell_type": "markdown",
   "id": "e3e91274",
   "metadata": {},
   "source": [
    "# Conditional Expressions"
   ]
  },
  {
   "cell_type": "code",
   "execution_count": null,
   "id": "56f1d280",
   "metadata": {},
   "outputs": [],
   "source": [
    "umur = 37\n",
    "s = 'tua' if umur >= 35 else 'muda'\n",
    "print(s)"
   ]
  },
  {
   "cell_type": "code",
   "execution_count": null,
   "id": "10372fa5",
   "metadata": {},
   "outputs": [],
   "source": [
    "harga_jeruk = 20000\n",
    "standar_harga = 30000\n",
    "tanggal_lahir = 1997\n",
    "# apabila jeruk leb\n",
    "if harga_jeruk > standar_harga:\n",
    "    print('Mahal')"
   ]
  },
  {
   "cell_type": "code",
   "execution_count": null,
   "id": "91dc09cd",
   "metadata": {},
   "outputs": [],
   "source": [
    "Nama = str(input('Masukkan nama anda = '))\n",
    "Gaji_anda = int(input('Masukkan gaji yang anda terima saat ini = '))\n",
    "Tahun = int(input('Berapa lama anda telah bekerja = '))\n",
    "if Tahun > 10:\n",
    "    Gaji = Gaji_anda*0.1\n",
    "    print('Gaji bersih anda adalah IDR = ', Gaji_anda + int(Gaji))\n",
    "elif Tahun < 10:\n",
    "    print('Gaji bersih anda adalah IDR =', Gaji_anda)\n",
    "    "
   ]
  },
  {
   "cell_type": "markdown",
   "id": "d2ac7230",
   "metadata": {},
   "source": [
    "# Loop"
   ]
  },
  {
   "cell_type": "code",
   "execution_count": null,
   "id": "e0e8c41d",
   "metadata": {},
   "outputs": [],
   "source": [
    "for i in ['foo','bar','baz','qux','quux','corge']:\n",
    "    print(i+'ayam')"
   ]
  },
  {
   "cell_type": "code",
   "execution_count": null,
   "id": "b9e31f01",
   "metadata": {},
   "outputs": [],
   "source": [
    "for i in [1,2,3,4]:\n",
    "    print(i+1)"
   ]
  },
  {
   "cell_type": "markdown",
   "id": "d04d7486",
   "metadata": {},
   "source": [
    "Objek yang bisa dilakukan looping adalah iterable (string, list, tuple, dictionary, dll)"
   ]
  },
  {
   "cell_type": "code",
   "execution_count": null,
   "id": "9a6027af",
   "metadata": {},
   "outputs": [],
   "source": [
    "for i in 'string':\n",
    "    print(i)"
   ]
  },
  {
   "cell_type": "markdown",
   "id": "b97f224a",
   "metadata": {},
   "source": [
    "\n"
   ]
  },
  {
   "cell_type": "code",
   "execution_count": null,
   "id": "5eb92132",
   "metadata": {
    "scrolled": false
   },
   "outputs": [],
   "source": [
    "for i in 'syifa':\n",
    "    print(i)"
   ]
  },
  {
   "cell_type": "markdown",
   "id": "cb4f86eb",
   "metadata": {},
   "source": [
    "# While Loop"
   ]
  },
  {
   "cell_type": "code",
   "execution_count": null,
   "id": "e1ecdc1c",
   "metadata": {},
   "outputs": [],
   "source": [
    "apel = 5\n",
    "while apel>0:\n",
    "    apel-=1\n",
    "    print(apel)"
   ]
  },
  {
   "cell_type": "code",
   "execution_count": null,
   "id": "0ebc0eac",
   "metadata": {},
   "outputs": [],
   "source": [
    "apel = 5\n",
    "while apel>0:\n",
    "    apel-=1\n",
    "    if apel ==1:\n",
    "        print('woy tinggal 1 nih ati2 ya')\n",
    "    else:\n",
    "        print(apel)"
   ]
  },
  {
   "cell_type": "code",
   "execution_count": null,
   "id": "930bd3f3",
   "metadata": {},
   "outputs": [],
   "source": [
    "# break digunakan untuk memberhentikan loop\n",
    "apel = 5\n",
    "while apel >0:\n",
    "    apel-=1\n",
    "    if apel==2:\n",
    "        break\n",
    "    print(apel)\n",
    "print('Loop Ended')"
   ]
  },
  {
   "cell_type": "code",
   "execution_count": null,
   "id": "ee573a53",
   "metadata": {},
   "outputs": [],
   "source": [
    "apel"
   ]
  },
  {
   "cell_type": "code",
   "execution_count": null,
   "id": "e26d39fb",
   "metadata": {},
   "outputs": [],
   "source": [
    "# Continue digunakan untuk melanjutkan loop disuatu kondisi\n",
    "apel = 5\n",
    "while apel >0:\n",
    "    apel-=1\n",
    "    if apel==2:\n",
    "        continue\n",
    "    print(apel)\n",
    "print('Loop Ended')"
   ]
  },
  {
   "cell_type": "code",
   "execution_count": null,
   "id": "1ae42502",
   "metadata": {},
   "outputs": [],
   "source": [
    "# Else\n",
    "apel = 10\n",
    "while apel>0:\n",
    "    apel-= 2\n",
    "    print(apel)\n",
    "else:\n",
    "    print('loop ended')"
   ]
  },
  {
   "cell_type": "code",
   "execution_count": null,
   "id": "023ddfb1",
   "metadata": {},
   "outputs": [],
   "source": [
    "# Else\n",
    "apel = 10\n",
    "while apel>0:\n",
    "    apel-=1\n",
    "    print(apel)\n",
    "    if apel==2:\n",
    "        break\n",
    "else:\n",
    "    print('Loop Done')"
   ]
  },
  {
   "cell_type": "markdown",
   "id": "fcfffb6d",
   "metadata": {},
   "source": [
    "# Nested If- Else & Loops\n"
   ]
  },
  {
   "cell_type": "markdown",
   "id": "62d698cb",
   "metadata": {},
   "source": [
    "#Nested If\n",
    "Berapa_tahun = int(input('Masukkan umur anda ='))\n",
    "umur = 42\n",
    "gender = str(input('Masukkan gender anda ='))\n",
    "if umur <18:\n",
    "    if gender == 'M':\n",
    "        print('Son')\n",
    "    else:\n",
    "        print('Daughter')\n",
    "if umur >= 18 and umur < 65:\n",
    "    if gender =='M':\n",
    "        print('Dad')\n",
    "    else:\n",
    "        print('Mom')"
   ]
  },
  {
   "cell_type": "code",
   "execution_count": null,
   "id": "c0795338",
   "metadata": {},
   "outputs": [],
   "source": [
    "#Nested IF\n",
    "umur = 42\n",
    "gender = 'M'\n",
    "if umur < 18:\n",
    "    if gender == 'M':\n",
    "        print('Son')\n",
    "    else:\n",
    "        print('Daughter')\n",
    "if umur >=30 and umur <65:\n",
    "    if gender == 'M':\n",
    "        print('Dad')\n",
    "    else:\n",
    "        print('Mom')"
   ]
  },
  {
   "cell_type": "markdown",
   "id": "914f9dfa",
   "metadata": {},
   "source": [
    "# One Line While Loops"
   ]
  },
  {
   "cell_type": "code",
   "execution_count": null,
   "id": "5d112702",
   "metadata": {},
   "outputs": [],
   "source": [
    "apel = 5 \n",
    "while apel > 0 : apel-=1; print(apel)"
   ]
  },
  {
   "cell_type": "markdown",
   "id": "72a09ad5",
   "metadata": {},
   "source": [
    "# For Loop"
   ]
  },
  {
   "cell_type": "code",
   "execution_count": null,
   "id": "abe90731",
   "metadata": {},
   "outputs": [],
   "source": [
    "a = [1,2,3,4,5]\n",
    "for i in a:\n",
    "    print(i)"
   ]
  },
  {
   "cell_type": "code",
   "execution_count": null,
   "id": "7f83cded",
   "metadata": {},
   "outputs": [],
   "source": [
    "# Nested For Loop\n",
    "b = ['Budi', 'Joko', 'Anwar']\n",
    "for i in b:\n",
    "    print(i)\n",
    "    for j in i :\n",
    "        print(j)"
   ]
  },
  {
   "cell_type": "code",
   "execution_count": null,
   "id": "8925ad3c",
   "metadata": {},
   "outputs": [],
   "source": [
    "# Nested For Loop\n",
    "b = ['Budi', 'Joko', 'Anwar']\n",
    "for i in b:\n",
    "    if i == 'Budi':\n",
    "        break\n",
    "    for j in i :\n",
    "        print(j)"
   ]
  },
  {
   "cell_type": "code",
   "execution_count": null,
   "id": "2fca4da1",
   "metadata": {},
   "outputs": [],
   "source": [
    "dictionary_a = {'A':'Bekasi', 'B':'Jakarta', 'C':'Medan'}\n",
    "for i in dictionary_a:\n",
    "    if i == 'A':\n",
    "        print(dictionary_a[i])"
   ]
  },
  {
   "cell_type": "code",
   "execution_count": null,
   "id": "618dff6c",
   "metadata": {},
   "outputs": [],
   "source": [
    "print(dictionary_a[i])"
   ]
  },
  {
   "cell_type": "code",
   "execution_count": null,
   "id": "686c9917",
   "metadata": {},
   "outputs": [],
   "source": [
    "for i in ['Aster', 'Jubah', 'Nambo', 'syifa']:\n",
    "    if 'b' in i:\n",
    "        pass\n",
    "    print(i)"
   ]
  },
  {
   "cell_type": "markdown",
   "id": "f80e2d37",
   "metadata": {},
   "source": [
    "Loop itu keseluruhan iterasi 1 loop diatas 4 iterasi\n",
    "iterasi adalah istilah untuk 1 putaran loop\n",
    "continue akan memberhentikan iterasi dan lanjut ke iterasi berikutnya\n",
    "break akan memberhentikan looping secara keseluruhan"
   ]
  },
  {
   "cell_type": "code",
   "execution_count": null,
   "id": "148c9a53",
   "metadata": {},
   "outputs": [],
   "source": [
    "print(range(5))"
   ]
  },
  {
   "cell_type": "code",
   "execution_count": null,
   "id": "0500f5ab",
   "metadata": {},
   "outputs": [],
   "source": [
    "for i in range(5):\n",
    "    print(i)"
   ]
  },
  {
   "cell_type": "code",
   "execution_count": null,
   "id": "9900cd29",
   "metadata": {},
   "outputs": [],
   "source": [
    "for i in range(5):\n",
    "    print(i+1)"
   ]
  },
  {
   "cell_type": "code",
   "execution_count": null,
   "id": "79ca6e91",
   "metadata": {},
   "outputs": [],
   "source": [
    "a = [1,2,3]\n",
    "b = [4,5,6]\n",
    "c = [7,8,9]\n",
    "for i,j,k in zip(a,b,c):\n",
    "    print(i,j,k)"
   ]
  },
  {
   "cell_type": "code",
   "execution_count": null,
   "id": "f6b1031a",
   "metadata": {},
   "outputs": [],
   "source": [
    "print(zip(a,b))"
   ]
  },
  {
   "cell_type": "code",
   "execution_count": null,
   "id": "ba3f880c",
   "metadata": {},
   "outputs": [],
   "source": [
    "n = 20\n",
    "while n < 21:\n",
    "    if n % 2 ==1 :\n",
    "        print (n)\n",
    "    else :\n",
    "        print('genap')\n",
    "    i+=1"
   ]
  },
  {
   "cell_type": "code",
   "execution_count": 1,
   "id": "4ecd7b28",
   "metadata": {},
   "outputs": [
    {
     "name": "stdout",
     "output_type": "stream",
     "text": [
      "15\n",
      "1 \n",
      "1 2 \n",
      "1 2 3 \n",
      "1 2 3 4 \n",
      "1 2 3 4 5 \n",
      "1 2 3 4 5 6 \n",
      "1 2 3 4 5 6 7 \n",
      "1 2 3 4 5 6 7 8 \n",
      "1 2 3 4 5 6 7 8 9 \n",
      "1 2 3 4 5 6 7 8 9 10 \n",
      "1 2 3 4 5 6 7 8 9 10 11 \n",
      "1 2 3 4 5 6 7 8 9 10 11 12 \n",
      "1 2 3 4 5 6 7 8 9 10 11 12 13 \n",
      "1 2 3 4 5 6 7 8 9 10 11 12 13 14 \n",
      "1 2 3 4 5 6 7 8 9 10 11 12 13 14 15 \n"
     ]
    }
   ],
   "source": [
    "rows = int(input())\n",
    "for i in range(1, rows + 1):\n",
    "    for j in range(1, i + 1):\n",
    "        print(j, end=' ')\n",
    "    print('')"
   ]
  },
  {
   "cell_type": "code",
   "execution_count": null,
   "id": "f2eea8e8",
   "metadata": {},
   "outputs": [],
   "source": []
  }
 ],
 "metadata": {
  "kernelspec": {
   "display_name": "Python 3 (ipykernel)",
   "language": "python",
   "name": "python3"
  },
  "language_info": {
   "codemirror_mode": {
    "name": "ipython",
    "version": 3
   },
   "file_extension": ".py",
   "mimetype": "text/x-python",
   "name": "python",
   "nbconvert_exporter": "python",
   "pygments_lexer": "ipython3",
   "version": "3.9.12"
  },
  "toc": {
   "base_numbering": 1,
   "nav_menu": {},
   "number_sections": true,
   "sideBar": true,
   "skip_h1_title": false,
   "title_cell": "Table of Contents",
   "title_sidebar": "Contents",
   "toc_cell": false,
   "toc_position": {},
   "toc_section_display": true,
   "toc_window_display": false
  }
 },
 "nbformat": 4,
 "nbformat_minor": 5
}
