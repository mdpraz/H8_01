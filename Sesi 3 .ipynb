{
 "cells": [
  {
   "cell_type": "markdown",
   "id": "96375f4b",
   "metadata": {},
   "source": [
    "# Function, Module, Package"
   ]
  },
  {
   "cell_type": "code",
   "execution_count": 1,
   "id": "d507a18b",
   "metadata": {},
   "outputs": [
    {
     "data": {
      "text/plain": [
       "18"
      ]
     },
     "execution_count": 1,
     "metadata": {},
     "output_type": "execute_result"
    }
   ],
   "source": [
    "1+17"
   ]
  },
  {
   "cell_type": "code",
   "execution_count": 2,
   "id": "506162a0",
   "metadata": {},
   "outputs": [
    {
     "name": "stdout",
     "output_type": "stream",
     "text": [
      "5\n"
     ]
    }
   ],
   "source": [
    "def kali(a,b):\n",
    "    return a*b\n",
    "print(kali(1,5))"
   ]
  },
  {
   "cell_type": "code",
   "execution_count": 3,
   "id": "d906729b",
   "metadata": {},
   "outputs": [],
   "source": [
    "x = kali(2,4)\n",
    "y = kali(1,10)\n",
    "z = kali(x,y)"
   ]
  },
  {
   "cell_type": "code",
   "execution_count": 4,
   "id": "faeacd51",
   "metadata": {},
   "outputs": [
    {
     "name": "stdout",
     "output_type": "stream",
     "text": [
      "80\n"
     ]
    }
   ],
   "source": [
    "print(z)"
   ]
  },
  {
   "cell_type": "code",
   "execution_count": 5,
   "id": "04bb6b09",
   "metadata": {},
   "outputs": [],
   "source": [
    "def str_joiner(a,b):\n",
    "    a = a.lower()\n",
    "    b = b.lower()\n",
    "    return a + b"
   ]
  },
  {
   "cell_type": "code",
   "execution_count": 6,
   "id": "3aec751c",
   "metadata": {},
   "outputs": [
    {
     "data": {
      "text/plain": [
       "'negara indonesia'"
      ]
     },
     "execution_count": 6,
     "metadata": {},
     "output_type": "execute_result"
    }
   ],
   "source": [
    "str_joiner('NEGARA',' INDONESIA')"
   ]
  },
  {
   "cell_type": "markdown",
   "id": "14613f6a",
   "metadata": {},
   "source": [
    "## QUIZ\n",
    "\n",
    "Tolong buat Function yang berisi 3 parameter string yang akan dijoin menggunakan spasi dan diconvert menjadi reverse\n",
    "\n",
    "## Contoh :\n",
    "\n",
    "## input :\n",
    "\n",
    "## str_joiner('Saya', 'Mau', 'Makan')\n",
    "\n",
    "## Output :\n",
    "\n",
    "## nakam uam ayas\n"
   ]
  },
  {
   "cell_type": "code",
   "execution_count": 7,
   "id": "df3ffccb",
   "metadata": {},
   "outputs": [
    {
     "name": "stdout",
     "output_type": "stream",
     "text": [
      " nakam uam ayas\n"
     ]
    }
   ],
   "source": [
    "def str_joiner(a,b,c):\n",
    "    a = a.lower()\n",
    "    b = b.lower()\n",
    "    c = c.lower()\n",
    "    return a + b + c\n",
    "x = str_joiner('Saya ','Mau ','Makan ')\n",
    "print(x[::-1])\n"
   ]
  },
  {
   "cell_type": "markdown",
   "id": "dfc09008",
   "metadata": {},
   "source": [
    "- Variable Global\n",
    "- Variable Lokal"
   ]
  },
  {
   "cell_type": "code",
   "execution_count": 8,
   "id": "10238067",
   "metadata": {},
   "outputs": [
    {
     "name": "stdout",
     "output_type": "stream",
     "text": [
      "23\n",
      "6\n"
     ]
    }
   ],
   "source": [
    "total = 23 #Variable Global\n",
    "\n",
    "def function_a(a,b): \n",
    "    total = a+b #Variable Lokal\n",
    "    return total\n",
    "print(total)\n",
    "print(function_a(1,5))"
   ]
  },
  {
   "cell_type": "code",
   "execution_count": 9,
   "id": "ffa49308",
   "metadata": {},
   "outputs": [
    {
     "data": {
      "text/plain": [
       "23"
      ]
     },
     "execution_count": 9,
     "metadata": {},
     "output_type": "execute_result"
    }
   ],
   "source": [
    "total"
   ]
  },
  {
   "cell_type": "code",
   "execution_count": 10,
   "id": "9323deaa",
   "metadata": {},
   "outputs": [
    {
     "name": "stdout",
     "output_type": "stream",
     "text": [
      "Tes\n",
      "tes\n"
     ]
    }
   ],
   "source": [
    "def function_b():\n",
    "    tes = 'Tes'\n",
    "    print(tes)\n",
    "function_b()\n",
    "print('tes')"
   ]
  },
  {
   "cell_type": "code",
   "execution_count": 11,
   "id": "a473547b",
   "metadata": {},
   "outputs": [],
   "source": [
    "n = [15,2,3,4,22,6,7,21,9,10,8,12,5]"
   ]
  },
  {
   "cell_type": "code",
   "execution_count": 12,
   "id": "f6cd22e3",
   "metadata": {},
   "outputs": [],
   "source": [
    "def function_c():\n",
    "    pass\n",
    "function_c()"
   ]
  },
  {
   "cell_type": "markdown",
   "id": "a7f39e8c",
   "metadata": {},
   "source": [
    "# Quiz\n",
    "\n",
    "Output Function :\n",
    "- n angka ganjil adalah = 7\n",
    "- n angka genap adalah = 6\n",
    "- sum angka ganjil adalah =\n",
    "- sum angka genap adalah = "
   ]
  },
  {
   "cell_type": "code",
   "execution_count": 13,
   "id": "4b4415d6",
   "metadata": {},
   "outputs": [
    {
     "name": "stdout",
     "output_type": "stream",
     "text": [
      "7\n",
      "6\n",
      "99\n",
      "166\n"
     ]
    }
   ],
   "source": [
    "my_lst = [2,5,13,41,6,42,66,7,13,11,9,10,40]\n",
    "\n",
    "def lst_summary(lst):\n",
    "    nGenap = 0 #placeholder n angka genap\n",
    "    nGanjil = 0 \n",
    "    sumGenap = 0\n",
    "    sumGanjil = 0\n",
    "    for i in lst:\n",
    "        if i % 2 == 0 : #digunakan untuk filter angka genap\n",
    "            nGenap +=1\n",
    "            sumGenap +=i\n",
    "        else: #digunakan untuk filter angka ganjil\n",
    "            nGanjil +=1 \n",
    "            sumGanjil += i\n",
    "    print(nGanjil)\n",
    "    print(nGenap)\n",
    "    print(sumGanjil)\n",
    "    print(sumGenap)\n",
    "\n",
    "lst_summary(my_lst)"
   ]
  },
  {
   "cell_type": "code",
   "execution_count": 14,
   "id": "5a88d168",
   "metadata": {},
   "outputs": [
    {
     "name": "stdout",
     "output_type": "stream",
     "text": [
      "13 mod 5 = 3\n",
      "15.0 mod 7.0 = 1.0\n"
     ]
    }
   ],
   "source": [
    "# inputs\n",
    "a = 13\n",
    "b = 5\n",
    "  \n",
    "# Stores the remainder obtained \n",
    "# when dividing a by b, in c\n",
    "c = a % b      \n",
    "print(a, \"mod\", b, \"=\",\n",
    "      c, sep = \" \")\n",
    "  \n",
    "    # inputs\n",
    "d = 15.0\n",
    "e = 7.0\n",
    "  \n",
    "# Stores the remainder obtained \n",
    "# when dividing d by e, in f\n",
    "f = d % e\n",
    "print(d, \"mod\", e, \"=\", \n",
    "      f, sep = \" \")"
   ]
  },
  {
   "cell_type": "code",
   "execution_count": 15,
   "id": "6fe35adf",
   "metadata": {},
   "outputs": [
    {
     "name": "stdout",
     "output_type": "stream",
     "text": [
      "Name:  Tama\n",
      "Age :  21\n"
     ]
    }
   ],
   "source": [
    "# Default Argument\n",
    "def printinfo(name,age=26):\n",
    "    print('Name: ', name)\n",
    "    print('Age : ', age)\n",
    "printinfo('Tama',21)"
   ]
  },
  {
   "cell_type": "code",
   "execution_count": 16,
   "id": "00021080",
   "metadata": {
    "scrolled": true
   },
   "outputs": [
    {
     "name": "stdout",
     "output_type": "stream",
     "text": [
      "Name:  Rahmat\n",
      "Age :  44\n"
     ]
    }
   ],
   "source": [
    "printinfo(age=44, name='Rahmat')"
   ]
  },
  {
   "cell_type": "code",
   "execution_count": 17,
   "id": "c7f73793",
   "metadata": {},
   "outputs": [
    {
     "name": "stdout",
     "output_type": "stream",
     "text": [
      "Name:  Ahmad\n",
      "Age :  34\n"
     ]
    }
   ],
   "source": [
    "printinfo('Ahmad',34)"
   ]
  },
  {
   "cell_type": "code",
   "execution_count": 18,
   "id": "5ee7eba3",
   "metadata": {},
   "outputs": [],
   "source": [
    "import numpy as np"
   ]
  },
  {
   "cell_type": "code",
   "execution_count": 19,
   "id": "4058125a",
   "metadata": {},
   "outputs": [],
   "source": [
    "# Variable length argument\n",
    "def printinfo(x, *vartuple):\n",
    "    print('Output is : ')\n",
    "    print(x)\n",
    "    print(vartuple)\n",
    "    print(type(vartuple))"
   ]
  },
  {
   "cell_type": "code",
   "execution_count": 20,
   "id": "ac74ac86",
   "metadata": {},
   "outputs": [
    {
     "name": "stdout",
     "output_type": "stream",
     "text": [
      "Output is : \n",
      "1\n",
      "(2, 4, 6, 'Lampung', 124, 5)\n",
      "<class 'tuple'>\n"
     ]
    }
   ],
   "source": [
    "printinfo(1,2,4,6,'Lampung',124,5)"
   ]
  },
  {
   "cell_type": "markdown",
   "id": "0390afe0",
   "metadata": {},
   "source": [
    "## Lambda"
   ]
  },
  {
   "cell_type": "code",
   "execution_count": 21,
   "id": "317b96c2",
   "metadata": {},
   "outputs": [
    {
     "name": "stdout",
     "output_type": "stream",
     "text": [
      "4\n"
     ]
    }
   ],
   "source": [
    "def sum(x,y):\n",
    "    return(x+y)\n",
    "print(sum(1,3))"
   ]
  },
  {
   "cell_type": "code",
   "execution_count": 22,
   "id": "e22f8696",
   "metadata": {},
   "outputs": [
    {
     "name": "stdout",
     "output_type": "stream",
     "text": [
      "12\n"
     ]
    }
   ],
   "source": [
    "perkalian = lambda x,y:x*y\n",
    "print(perkalian(3,4))"
   ]
  },
  {
   "cell_type": "markdown",
   "id": "e63a747e",
   "metadata": {},
   "source": [
    "## Modules"
   ]
  },
  {
   "cell_type": "code",
   "execution_count": 23,
   "id": "96e6c363",
   "metadata": {},
   "outputs": [],
   "source": [
    "import numpy as np"
   ]
  },
  {
   "cell_type": "code",
   "execution_count": 24,
   "id": "a8dd8b4c",
   "metadata": {},
   "outputs": [
    {
     "data": {
      "text/plain": [
       "3.0"
      ]
     },
     "execution_count": 24,
     "metadata": {},
     "output_type": "execute_result"
    }
   ],
   "source": [
    "np.sqrt(9)"
   ]
  },
  {
   "cell_type": "code",
   "execution_count": 25,
   "id": "cf2f5773",
   "metadata": {},
   "outputs": [],
   "source": [
    "import mod"
   ]
  },
  {
   "cell_type": "code",
   "execution_count": 26,
   "id": "e42072e0",
   "metadata": {},
   "outputs": [
    {
     "data": {
      "text/plain": [
       "['C:\\\\Users\\\\muham\\\\Hacktiv8',\n",
       " 'C:\\\\Users\\\\muham\\\\anaconda3\\\\python39.zip',\n",
       " 'C:\\\\Users\\\\muham\\\\anaconda3\\\\DLLs',\n",
       " 'C:\\\\Users\\\\muham\\\\anaconda3\\\\lib',\n",
       " 'C:\\\\Users\\\\muham\\\\anaconda3',\n",
       " '',\n",
       " 'C:\\\\Users\\\\muham\\\\anaconda3\\\\lib\\\\site-packages',\n",
       " 'C:\\\\Users\\\\muham\\\\anaconda3\\\\lib\\\\site-packages\\\\win32',\n",
       " 'C:\\\\Users\\\\muham\\\\anaconda3\\\\lib\\\\site-packages\\\\win32\\\\lib',\n",
       " 'C:\\\\Users\\\\muham\\\\anaconda3\\\\lib\\\\site-packages\\\\Pythonwin']"
      ]
     },
     "execution_count": 26,
     "metadata": {},
     "output_type": "execute_result"
    }
   ],
   "source": [
    "import sys\n",
    "sys.path"
   ]
  },
  {
   "cell_type": "markdown",
   "id": "3721dd95-ca95-4302-99de-450ae1b9aa6a",
   "metadata": {},
   "source": [
    "## Try :\n",
    "[Code Block]\n",
    "Except :\n",
    "[Error Operation]"
   ]
  },
  {
   "cell_type": "code",
   "execution_count": 27,
   "id": "ad53ba59-cfb8-496a-98db-4a2ccf83fdcd",
   "metadata": {},
   "outputs": [
    {
     "name": "stdout",
     "output_type": "stream",
     "text": [
      "Object Not Found in Modules\n"
     ]
    }
   ],
   "source": [
    "try:\n",
    "    from mod import h\n",
    "    haha\n",
    "except:\n",
    "    print('Object Not Found in Modules')\n",
    "    "
   ]
  },
  {
   "cell_type": "markdown",
   "id": "8ab86831",
   "metadata": {},
   "source": [
    "# Matplotlib, Pandas, Numpy, Seaborn, Statsmodels, Scikitlearn"
   ]
  },
  {
   "cell_type": "code",
   "execution_count": 29,
   "id": "c1573991",
   "metadata": {},
   "outputs": [],
   "source": [
    "import numpy as np"
   ]
  },
  {
   "cell_type": "code",
   "execution_count": 30,
   "id": "720cb067",
   "metadata": {},
   "outputs": [
    {
     "data": {
      "text/plain": [
       "'C:\\\\Users\\\\muham\\\\anaconda3\\\\lib\\\\site-packages\\\\numpy\\\\__init__.py'"
      ]
     },
     "execution_count": 30,
     "metadata": {},
     "output_type": "execute_result"
    }
   ],
   "source": [
    "np.__file__"
   ]
  },
  {
   "cell_type": "code",
   "execution_count": 31,
   "id": "976002db",
   "metadata": {},
   "outputs": [],
   "source": [
    "import matplotlib as plt"
   ]
  },
  {
   "cell_type": "code",
   "execution_count": 32,
   "id": "963587fb",
   "metadata": {},
   "outputs": [
    {
     "data": {
      "text/plain": [
       "'C:\\\\Users\\\\muham\\\\anaconda3\\\\lib\\\\site-packages\\\\matplotlib\\\\__init__.py'"
      ]
     },
     "execution_count": 32,
     "metadata": {},
     "output_type": "execute_result"
    }
   ],
   "source": [
    "plt.__file__"
   ]
  },
  {
   "cell_type": "code",
   "execution_count": 33,
   "id": "06fa2638",
   "metadata": {},
   "outputs": [],
   "source": [
    "import sklearn as scs"
   ]
  },
  {
   "cell_type": "code",
   "execution_count": 34,
   "id": "ad4af76c",
   "metadata": {},
   "outputs": [
    {
     "data": {
      "text/plain": [
       "'C:\\\\Users\\\\muham\\\\anaconda3\\\\lib\\\\site-packages\\\\sklearn\\\\__init__.py'"
      ]
     },
     "execution_count": 34,
     "metadata": {},
     "output_type": "execute_result"
    }
   ],
   "source": [
    "scs.__file__"
   ]
  },
  {
   "cell_type": "code",
   "execution_count": 35,
   "id": "390dd71c",
   "metadata": {},
   "outputs": [
    {
     "data": {
      "text/plain": [
       "<module 'sklearn' from 'C:\\\\Users\\\\muham\\\\anaconda3\\\\lib\\\\site-packages\\\\sklearn\\\\__init__.py'>"
      ]
     },
     "execution_count": 35,
     "metadata": {},
     "output_type": "execute_result"
    }
   ],
   "source": [
    "scs"
   ]
  },
  {
   "cell_type": "code",
   "execution_count": 36,
   "id": "569641e0",
   "metadata": {},
   "outputs": [],
   "source": [
    "import scipy as sp"
   ]
  },
  {
   "cell_type": "code",
   "execution_count": 37,
   "id": "190fe6b1",
   "metadata": {},
   "outputs": [
    {
     "data": {
      "text/plain": [
       "'C:\\\\Users\\\\muham\\\\anaconda3\\\\lib\\\\site-packages\\\\scipy\\\\__init__.py'"
      ]
     },
     "execution_count": 37,
     "metadata": {},
     "output_type": "execute_result"
    }
   ],
   "source": [
    "sp.__file__"
   ]
  },
  {
   "cell_type": "code",
   "execution_count": 38,
   "id": "bcc99f93",
   "metadata": {},
   "outputs": [
    {
     "data": {
      "text/plain": [
       "<module 'numpy' from 'C:\\\\Users\\\\muham\\\\anaconda3\\\\lib\\\\site-packages\\\\numpy\\\\__init__.py'>"
      ]
     },
     "execution_count": 38,
     "metadata": {},
     "output_type": "execute_result"
    }
   ],
   "source": [
    "np"
   ]
  },
  {
   "cell_type": "code",
   "execution_count": 39,
   "id": "079f17d2",
   "metadata": {},
   "outputs": [
    {
     "data": {
      "text/plain": [
       "['In',\n",
       " 'Out',\n",
       " '_',\n",
       " '_1',\n",
       " '_24',\n",
       " '_26',\n",
       " '_30',\n",
       " '_32',\n",
       " '_34',\n",
       " '_35',\n",
       " '_37',\n",
       " '_38',\n",
       " '_6',\n",
       " '_9',\n",
       " '__',\n",
       " '___',\n",
       " '__builtin__',\n",
       " '__builtins__',\n",
       " '__doc__',\n",
       " '__loader__',\n",
       " '__name__',\n",
       " '__package__',\n",
       " '__spec__',\n",
       " '_dh',\n",
       " '_i',\n",
       " '_i1',\n",
       " '_i10',\n",
       " '_i11',\n",
       " '_i12',\n",
       " '_i13',\n",
       " '_i14',\n",
       " '_i15',\n",
       " '_i16',\n",
       " '_i17',\n",
       " '_i18',\n",
       " '_i19',\n",
       " '_i2',\n",
       " '_i20',\n",
       " '_i21',\n",
       " '_i22',\n",
       " '_i23',\n",
       " '_i24',\n",
       " '_i25',\n",
       " '_i26',\n",
       " '_i27',\n",
       " '_i28',\n",
       " '_i29',\n",
       " '_i3',\n",
       " '_i30',\n",
       " '_i31',\n",
       " '_i32',\n",
       " '_i33',\n",
       " '_i34',\n",
       " '_i35',\n",
       " '_i36',\n",
       " '_i37',\n",
       " '_i38',\n",
       " '_i39',\n",
       " '_i4',\n",
       " '_i5',\n",
       " '_i6',\n",
       " '_i7',\n",
       " '_i8',\n",
       " '_i9',\n",
       " '_ih',\n",
       " '_ii',\n",
       " '_iii',\n",
       " '_oh',\n",
       " 'a',\n",
       " 'b',\n",
       " 'c',\n",
       " 'd',\n",
       " 'e',\n",
       " 'exit',\n",
       " 'f',\n",
       " 'function_a',\n",
       " 'function_b',\n",
       " 'function_c',\n",
       " 'get_ipython',\n",
       " 'kali',\n",
       " 'lst_summary',\n",
       " 'mod',\n",
       " 'my_lst',\n",
       " 'n',\n",
       " 'np',\n",
       " 'perkalian',\n",
       " 'plt',\n",
       " 'printinfo',\n",
       " 'quit',\n",
       " 'scs',\n",
       " 'sp',\n",
       " 'str_joiner',\n",
       " 'sum',\n",
       " 'sys',\n",
       " 'total',\n",
       " 'x',\n",
       " 'y',\n",
       " 'z']"
      ]
     },
     "execution_count": 39,
     "metadata": {},
     "output_type": "execute_result"
    }
   ],
   "source": [
    "dir()"
   ]
  },
  {
   "cell_type": "code",
   "execution_count": 40,
   "id": "2d9d7977",
   "metadata": {},
   "outputs": [
    {
     "data": {
      "text/plain": [
       "['C:\\\\Users\\\\muham\\\\Hacktiv8',\n",
       " 'C:\\\\Users\\\\muham\\\\anaconda3\\\\python39.zip',\n",
       " 'C:\\\\Users\\\\muham\\\\anaconda3\\\\DLLs',\n",
       " 'C:\\\\Users\\\\muham\\\\anaconda3\\\\lib',\n",
       " 'C:\\\\Users\\\\muham\\\\anaconda3',\n",
       " '',\n",
       " 'C:\\\\Users\\\\muham\\\\anaconda3\\\\lib\\\\site-packages',\n",
       " 'C:\\\\Users\\\\muham\\\\anaconda3\\\\lib\\\\site-packages\\\\win32',\n",
       " 'C:\\\\Users\\\\muham\\\\anaconda3\\\\lib\\\\site-packages\\\\win32\\\\lib',\n",
       " 'C:\\\\Users\\\\muham\\\\anaconda3\\\\lib\\\\site-packages\\\\Pythonwin',\n",
       " '/Users/muham/Hacktiv8']"
      ]
     },
     "execution_count": 40,
     "metadata": {},
     "output_type": "execute_result"
    }
   ],
   "source": [
    "sys.path.append(r'/Users/muham/Hacktiv8')\n",
    "sys.path"
   ]
  },
  {
   "cell_type": "code",
   "execution_count": 41,
   "id": "d02beb35",
   "metadata": {},
   "outputs": [],
   "source": [
    "import mod as pck"
   ]
  },
  {
   "cell_type": "code",
   "execution_count": 49,
   "id": "7ad6101f",
   "metadata": {},
   "outputs": [
    {
     "data": {
      "text/plain": [
       "'Hacktiv8-PTP Python for Data Science'"
      ]
     },
     "execution_count": 49,
     "metadata": {},
     "output_type": "execute_result"
    }
   ],
   "source": [
    "mod.s"
   ]
  },
  {
   "cell_type": "code",
   "execution_count": 46,
   "id": "438b47a4",
   "metadata": {},
   "outputs": [
    {
     "name": "stdout",
     "output_type": "stream",
     "text": [
      "Hacktiv8-PTP Python for Data Science\n"
     ]
    }
   ],
   "source": [
    "print(pck.s)"
   ]
  },
  {
   "cell_type": "code",
   "execution_count": 50,
   "id": "330af0ab",
   "metadata": {},
   "outputs": [
    {
     "data": {
      "text/plain": [
       "'C:\\\\Users\\\\muham\\\\Hacktiv8\\\\mod.py'"
      ]
     },
     "execution_count": 50,
     "metadata": {},
     "output_type": "execute_result"
    }
   ],
   "source": [
    "mod.__file__"
   ]
  },
  {
   "cell_type": "code",
   "execution_count": 51,
   "id": "dc43a080",
   "metadata": {},
   "outputs": [
    {
     "data": {
      "text/plain": [
       "['C:\\\\Users\\\\muham\\\\Hacktiv8',\n",
       " 'C:\\\\Users\\\\muham\\\\anaconda3\\\\python39.zip',\n",
       " 'C:\\\\Users\\\\muham\\\\anaconda3\\\\DLLs',\n",
       " 'C:\\\\Users\\\\muham\\\\anaconda3\\\\lib',\n",
       " 'C:\\\\Users\\\\muham\\\\anaconda3',\n",
       " '',\n",
       " 'C:\\\\Users\\\\muham\\\\anaconda3\\\\lib\\\\site-packages',\n",
       " 'C:\\\\Users\\\\muham\\\\anaconda3\\\\lib\\\\site-packages\\\\win32',\n",
       " 'C:\\\\Users\\\\muham\\\\anaconda3\\\\lib\\\\site-packages\\\\win32\\\\lib',\n",
       " 'C:\\\\Users\\\\muham\\\\anaconda3\\\\lib\\\\site-packages\\\\Pythonwin',\n",
       " '/Users/muham/Hacktiv8',\n",
       " 'D:/library']"
      ]
     },
     "execution_count": 51,
     "metadata": {},
     "output_type": "execute_result"
    }
   ],
   "source": [
    "import sys \n",
    "sys.path.append('D:/library')\n",
    "sys.path"
   ]
  },
  {
   "cell_type": "code",
   "execution_count": 52,
   "id": "cadef280",
   "metadata": {},
   "outputs": [],
   "source": [
    "import mod "
   ]
  },
  {
   "cell_type": "code",
   "execution_count": 54,
   "id": "9e090d32",
   "metadata": {},
   "outputs": [
    {
     "data": {
      "text/plain": [
       "['100,200,300']"
      ]
     },
     "execution_count": 54,
     "metadata": {},
     "output_type": "execute_result"
    }
   ],
   "source": [
    "mod.a"
   ]
  },
  {
   "cell_type": "code",
   "execution_count": 55,
   "id": "5556fe14",
   "metadata": {},
   "outputs": [
    {
     "name": "stdout",
     "output_type": "stream",
     "text": [
      "arg = Hello World!\n"
     ]
    }
   ],
   "source": [
    "mod.foo('Hello World!')"
   ]
  },
  {
   "cell_type": "code",
   "execution_count": 56,
   "id": "fb09cfa6",
   "metadata": {},
   "outputs": [
    {
     "name": "stdout",
     "output_type": "stream",
     "text": [
      "<mod.Foo object at 0x0000018C8B8F2730>\n"
     ]
    }
   ],
   "source": [
    "x = mod.Foo()\n",
    "print(x)"
   ]
  },
  {
   "cell_type": "code",
   "execution_count": 57,
   "id": "24c31885",
   "metadata": {},
   "outputs": [
    {
     "data": {
      "text/plain": [
       "'Hacktiv8-PTP Python for Data Science'"
      ]
     },
     "execution_count": 57,
     "metadata": {},
     "output_type": "execute_result"
    }
   ],
   "source": [
    "from mod import s as variable_a\n",
    "variable_a"
   ]
  },
  {
   "cell_type": "markdown",
   "id": "6b5a649a",
   "metadata": {},
   "source": [
    "## Package\n",
    "\n",
    "Package merupakan kumpulan dari module-module"
   ]
  },
  {
   "cell_type": "code",
   "execution_count": 58,
   "id": "effec52a",
   "metadata": {},
   "outputs": [],
   "source": [
    "import pkg.mod, pkg.fact"
   ]
  },
  {
   "cell_type": "code",
   "execution_count": 59,
   "id": "0779b720",
   "metadata": {},
   "outputs": [
    {
     "data": {
      "text/plain": [
       "720"
      ]
     },
     "execution_count": 59,
     "metadata": {},
     "output_type": "execute_result"
    }
   ],
   "source": [
    "from fact import fact\n",
    "fact(6)"
   ]
  },
  {
   "cell_type": "code",
   "execution_count": 60,
   "id": "b01adb89",
   "metadata": {},
   "outputs": [],
   "source": [
    "import pkg.mod"
   ]
  },
  {
   "cell_type": "code",
   "execution_count": 62,
   "id": "19882cb3",
   "metadata": {},
   "outputs": [
    {
     "name": "stdout",
     "output_type": "stream",
     "text": [
      "arg = Tama\n"
     ]
    }
   ],
   "source": [
    "mod.foo('Tama')"
   ]
  },
  {
   "cell_type": "code",
   "execution_count": 67,
   "id": "437ad92a",
   "metadata": {},
   "outputs": [
    {
     "data": {
      "text/plain": [
       "295232799039604140847618609643520000000"
      ]
     },
     "execution_count": 67,
     "metadata": {},
     "output_type": "execute_result"
    }
   ],
   "source": [
    "fact(34)"
   ]
  }
 ],
 "metadata": {
  "kernelspec": {
   "display_name": "Python 3 (ipykernel)",
   "language": "python",
   "name": "python3"
  },
  "language_info": {
   "codemirror_mode": {
    "name": "ipython",
    "version": 3
   },
   "file_extension": ".py",
   "mimetype": "text/x-python",
   "name": "python",
   "nbconvert_exporter": "python",
   "pygments_lexer": "ipython3",
   "version": "3.9.12"
  },
  "toc": {
   "base_numbering": 1,
   "nav_menu": {},
   "number_sections": true,
   "sideBar": true,
   "skip_h1_title": false,
   "title_cell": "Table of Contents",
   "title_sidebar": "Contents",
   "toc_cell": false,
   "toc_position": {},
   "toc_section_display": true,
   "toc_window_display": false
  }
 },
 "nbformat": 4,
 "nbformat_minor": 5
}
