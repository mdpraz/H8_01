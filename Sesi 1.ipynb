{
 "cells": [
  {
   "cell_type": "markdown",
   "id": "5fa32e93",
   "metadata": {},
   "source": [
    "# Data Type"
   ]
  },
  {
   "cell_type": "markdown",
   "id": "f94137bc",
   "metadata": {},
   "source": [
    "## String"
   ]
  },
  {
   "cell_type": "code",
   "execution_count": 5,
   "id": "e669be50",
   "metadata": {},
   "outputs": [
    {
     "name": "stdout",
     "output_type": "stream",
     "text": [
      "Hacktivate\n",
      "<class 'str'>\n"
     ]
    }
   ],
   "source": [
    "print('Hacktivate')\n",
    "print(type('Hacktivate'))"
   ]
  },
  {
   "cell_type": "markdown",
   "id": "eb94f500",
   "metadata": {},
   "source": [
    "## Integer"
   ]
  },
  {
   "cell_type": "code",
   "execution_count": 4,
   "id": "da3f46db",
   "metadata": {},
   "outputs": [
    {
     "name": "stdout",
     "output_type": "stream",
     "text": [
      "100\n",
      "<class 'int'>\n"
     ]
    }
   ],
   "source": [
    "print(100)\n",
    "print(type(100))"
   ]
  },
  {
   "cell_type": "markdown",
   "id": "68f0215b",
   "metadata": {},
   "source": [
    "## Floating-Point Numbers"
   ]
  },
  {
   "cell_type": "code",
   "execution_count": 19,
   "id": "788f134d",
   "metadata": {},
   "outputs": [
    {
     "name": "stdout",
     "output_type": "stream",
     "text": [
      "4.2\n",
      "<class 'float'>\n",
      "4.0\n",
      "0.2\n",
      "40000000.0\n",
      "4.2e-07\n",
      "<class 'float'>\n"
     ]
    }
   ],
   "source": [
    "print(4.2)\n",
    "print(type(4.2))\n",
    "\n",
    "print(4.)\n",
    "print(.2)\n",
    "print(.4e8)\n",
    "print(4.2e-7)\n",
    "print(type(4.2e-7))"
   ]
  },
  {
   "cell_type": "markdown",
   "id": "bba80bc8",
   "metadata": {},
   "source": [
    "## Boolean"
   ]
  },
  {
   "cell_type": "code",
   "execution_count": 22,
   "id": "baff6ed6",
   "metadata": {},
   "outputs": [
    {
     "name": "stdout",
     "output_type": "stream",
     "text": [
      "<class 'bool'>\n",
      "<class 'bool'>\n"
     ]
    }
   ],
   "source": [
    "True\n",
    "False\n",
    "\n",
    "print(type(True))\n",
    "print(type(False))"
   ]
  },
  {
   "cell_type": "markdown",
   "id": "7e2cb4f1",
   "metadata": {},
   "source": [
    "4 Types yang paling sering digunakan\n",
    "- String\n",
    "- Integer\n",
    "- String\n",
    "- Boolean"
   ]
  },
  {
   "cell_type": "markdown",
   "id": "220e3d10",
   "metadata": {},
   "source": [
    "# Variable Assignment"
   ]
  },
  {
   "cell_type": "code",
   "execution_count": 26,
   "id": "086cd6a9",
   "metadata": {},
   "outputs": [],
   "source": [
    "n  = .091\n",
    "a = b = c = 'Hacktiv8'"
   ]
  },
  {
   "cell_type": "code",
   "execution_count": 27,
   "id": "edc88dd8",
   "metadata": {},
   "outputs": [
    {
     "name": "stdout",
     "output_type": "stream",
     "text": [
      "0.091\n",
      "Hacktiv8 Hacktiv8 Hacktiv8\n"
     ]
    }
   ],
   "source": [
    "print(n)\n",
    "type(n)\n",
    "print(a,b,c)"
   ]
  },
  {
   "cell_type": "code",
   "execution_count": 30,
   "id": "01491f55",
   "metadata": {},
   "outputs": [
    {
     "name": "stdout",
     "output_type": "stream",
     "text": [
      "1000\n",
      "Now string\n"
     ]
    }
   ],
   "source": [
    "var = 1000\n",
    "print (var)\n",
    "\n",
    "var = \"Now string\"\n",
    "print(var)"
   ]
  },
  {
   "cell_type": "markdown",
   "id": "bb39adcc",
   "metadata": {},
   "source": [
    "## Variable Names"
   ]
  },
  {
   "cell_type": "code",
   "execution_count": 32,
   "id": "68650c1f",
   "metadata": {},
   "outputs": [
    {
     "name": "stdout",
     "output_type": "stream",
     "text": [
      "Hacktiv 52 True\n"
     ]
    }
   ],
   "source": [
    "nama = \"Hacktiv\"\n",
    "umur = 52\n",
    "sudah_menikah = True\n",
    "print(nama, umur, sudah_menikah)"
   ]
  },
  {
   "cell_type": "markdown",
   "id": "c698d7f1",
   "metadata": {},
   "source": [
    "# Arithmetic Operators"
   ]
  },
  {
   "cell_type": "code",
   "execution_count": 38,
   "id": "4b789359",
   "metadata": {},
   "outputs": [
    {
     "name": "stdout",
     "output_type": "stream",
     "text": [
      "Hasil penambahan adalah =  15\n",
      "Hasil pengurangan adalah =  5\n",
      "Hasil perkalian adalah =  50\n",
      "Hasil pembagian adalah =  2.0\n",
      "Hasil modulus adalah =  0\n",
      "Hasil adalah =  100000\n"
     ]
    }
   ],
   "source": [
    "a = 10\n",
    "b = 5\n",
    "\n",
    "print('Hasil penambahan adalah = ', a + b)\n",
    "print('Hasil pengurangan adalah = ', a - b)\n",
    "print('Hasil perkalian adalah = ', a * b)\n",
    "print('Hasil pembagian adalah = ', a / b)\n",
    "print('Hasil modulus adalah = ', a % b)\n",
    "print('Hasil adalah = ', a ** b)\n"
   ]
  },
  {
   "cell_type": "markdown",
   "id": "f0ad3495",
   "metadata": {},
   "source": [
    "Quiz 1 ubah 30 derajat celcius ke fahrenheit"
   ]
  },
  {
   "cell_type": "code",
   "execution_count": 43,
   "id": "aef31de5",
   "metadata": {},
   "outputs": [
    {
     "name": "stdout",
     "output_type": "stream",
     "text": [
      "Hasil dari 30 celcius ke farenheit adalah 86.0\n"
     ]
    }
   ],
   "source": [
    "c = 30\n",
    "f = (9/5)*c + 32\n",
    "print('Hasil dari 30 celcius ke farenheit adalah', f)"
   ]
  },
  {
   "cell_type": "markdown",
   "id": "72bd70b0",
   "metadata": {},
   "source": [
    "# Comparison Operators"
   ]
  },
  {
   "cell_type": "code",
   "execution_count": 47,
   "id": "02be2898",
   "metadata": {},
   "outputs": [],
   "source": [
    "a=1\n",
    "b=2\n",
    "c=3\n",
    "d=4\n",
    "rumah1='Jakarta'\n",
    "rumah2='Lampung'\n",
    "rumah3='Lampung'"
   ]
  },
  {
   "cell_type": "code",
   "execution_count": 51,
   "id": "9cc56071",
   "metadata": {},
   "outputs": [
    {
     "name": "stdout",
     "output_type": "stream",
     "text": [
      "False\n",
      "True\n",
      "False\n",
      "True\n",
      "False\n",
      "True\n"
     ]
    }
   ],
   "source": [
    "print(rumah1==rumah2)\n",
    "print(rumah2==rumah3)\n",
    "print(c>d)\n",
    "print(c<d)\n",
    "print(a>=b)\n",
    "print(a<=b)"
   ]
  },
  {
   "cell_type": "code",
   "execution_count": 52,
   "id": "97f6a3a0",
   "metadata": {},
   "outputs": [
    {
     "name": "stdout",
     "output_type": "stream",
     "text": [
      "True\n",
      "False\n"
     ]
    }
   ],
   "source": [
    "# Tidak sama dengan (!=)\n",
    "print(b!=a)\n",
    "print(rumah2!=rumah3)"
   ]
  },
  {
   "cell_type": "markdown",
   "id": "10c6ca08",
   "metadata": {},
   "source": [
    "# String Manipulation "
   ]
  },
  {
   "cell_type": "code",
   "execution_count": 1,
   "id": "dbab5832",
   "metadata": {},
   "outputs": [
    {
     "name": "stdout",
     "output_type": "stream",
     "text": [
      "foobar\n",
      "foobarbaz\n"
     ]
    }
   ],
   "source": [
    "s = 'foo'\n",
    "t = 'bar'\n",
    "u = 'baz'\n",
    "\n",
    "print(s + t)\n",
    "print(s + t + u)\n"
   ]
  },
  {
   "cell_type": "code",
   "execution_count": 2,
   "id": "a3921fd4",
   "metadata": {},
   "outputs": [
    {
     "data": {
      "text/plain": [
       "'foofoofoofoofoo'"
      ]
     },
     "execution_count": 2,
     "metadata": {},
     "output_type": "execute_result"
    }
   ],
   "source": [
    "# operator '*'\n",
    "\n",
    "s*5"
   ]
  },
  {
   "cell_type": "code",
   "execution_count": 4,
   "id": "1a75ebc6",
   "metadata": {},
   "outputs": [
    {
     "name": "stdout",
     "output_type": "stream",
     "text": [
      "True\n",
      "False\n"
     ]
    }
   ],
   "source": [
    "# in operators\n",
    "s = 'foo'\n",
    "print(s in 'Warm food is good')\n",
    "print(s in 'Warm hood is good')"
   ]
  },
  {
   "cell_type": "code",
   "execution_count": 13,
   "id": "786a3f04",
   "metadata": {},
   "outputs": [
    {
     "name": "stdout",
     "output_type": "stream",
     "text": [
      "Hacktivate\n",
      "hacktivate\n",
      "HACKTIVATE\n",
      "hAcktIvAte\n",
      "Hacktivate\n"
     ]
    }
   ],
   "source": [
    "# Case Conversion\n",
    "s = 'HaCKTiVaTE'\n",
    "\n",
    "# Capitalize\n",
    "print(s.capitalize())\n",
    "\n",
    "# Lower\n",
    "print(s.lower())\n",
    "\n",
    "# upper \n",
    "print(s.upper())\n",
    "\n",
    "# Swapcase\n",
    "print(s.swapcase())\n",
    "\n",
    "#Title\n",
    "print(s.title())\n"
   ]
  },
  {
   "cell_type": "markdown",
   "id": "ebd92160",
   "metadata": {},
   "source": [
    "# Python Lists"
   ]
  },
  {
   "cell_type": "code",
   "execution_count": 11,
   "id": "1d49c7fd",
   "metadata": {},
   "outputs": [
    {
     "name": "stdout",
     "output_type": "stream",
     "text": [
      "['saya', 'adalah', 'warga', 'indonesia']\n",
      "<class 'list'>\n"
     ]
    }
   ],
   "source": [
    "a = ['saya', 'adalah', 'warga', 'indonesia']\n",
    "c = ['Warga', 'indonesia', 'adalah', 'saya']\n",
    "print(a)\n",
    "print(type(a))"
   ]
  },
  {
   "cell_type": "markdown",
   "id": "5aef33e9",
   "metadata": {},
   "source": [
    "Karakteristik dari List Pyhton adalah :\n",
    "\n",
    "- List are ordered\n",
    "- List dapat berisi objek sembarang\n",
    "- Elemen list dapat diakses dengan indeks\n",
    "- List dapat disarangkan hingga kedalaman yang tidak terbatas\n",
    "- List dapat berubah-ubah (mutable\n",
    "- List bersifat dinamis"
   ]
  },
  {
   "cell_type": "code",
   "execution_count": 9,
   "id": "6b2833a5",
   "metadata": {},
   "outputs": [
    {
     "data": {
      "text/plain": [
       "['saya', 1520, False]"
      ]
     },
     "execution_count": 9,
     "metadata": {},
     "output_type": "execute_result"
    }
   ],
   "source": [
    "b = ['saya', 1520, False]\n",
    "b"
   ]
  },
  {
   "cell_type": "code",
   "execution_count": 12,
   "id": "0cb67241",
   "metadata": {},
   "outputs": [
    {
     "name": "stdout",
     "output_type": "stream",
     "text": [
      "False\n"
     ]
    }
   ],
   "source": [
    "print(a==c)"
   ]
  },
  {
   "cell_type": "markdown",
   "id": "dd223c06",
   "metadata": {},
   "source": [
    "## Indexing and Slicing"
   ]
  },
  {
   "cell_type": "code",
   "execution_count": 14,
   "id": "d3282805",
   "metadata": {},
   "outputs": [
    {
     "name": "stdout",
     "output_type": "stream",
     "text": [
      "['foo', 'bar', 'baz', 'qux', 'quux', 'corge']\n"
     ]
    }
   ],
   "source": [
    "# List can be accessed by index\n",
    "\n",
    "a = ['foo','bar','baz','qux','quux','corge']\n",
    "print(a)"
   ]
  },
  {
   "cell_type": "code",
   "execution_count": 20,
   "id": "ab32c835",
   "metadata": {},
   "outputs": [
    {
     "name": "stdout",
     "output_type": "stream",
     "text": [
      "qux\n",
      "corge\n",
      "quux\n"
     ]
    },
    {
     "data": {
      "text/plain": [
       "True"
      ]
     },
     "execution_count": 20,
     "metadata": {},
     "output_type": "execute_result"
    }
   ],
   "source": [
    "print(a[3])\n",
    "print(a[5])\n",
    "print(a[-2])\n",
    "a[-6]==a[0]"
   ]
  },
  {
   "cell_type": "markdown",
   "id": "05551074",
   "metadata": {},
   "source": [
    "# Prinsip Slicing = [start:stop:step]"
   ]
  },
  {
   "cell_type": "code",
   "execution_count": 27,
   "id": "82664daa",
   "metadata": {},
   "outputs": [
    {
     "name": "stdout",
     "output_type": "stream",
     "text": [
      "['foo', 'baz']\n",
      "['foo', 'bar']\n",
      "['baz', 'qux', 'quux', 'corge']\n"
     ]
    }
   ],
   "source": [
    "# Slicing\n",
    "a = ['foo','bar','baz','qux','quux','corge']\n",
    "print(a[0:4:2])\n",
    "print(a[:2])\n",
    "print(a[2:])"
   ]
  },
  {
   "cell_type": "code",
   "execution_count": 33,
   "id": "5bae03d5",
   "metadata": {},
   "outputs": [
    {
     "name": "stdout",
     "output_type": "stream",
     "text": [
      "in\n",
      "aragenitaJ\n"
     ]
    }
   ],
   "source": [
    "x = 'Jatinegara'\n",
    "print(x[3:5])\n",
    "print(x[::-1])"
   ]
  },
  {
   "cell_type": "code",
   "execution_count": 34,
   "id": "ebca51b7",
   "metadata": {},
   "outputs": [],
   "source": [
    "a = 'komitmen'"
   ]
  },
  {
   "cell_type": "markdown",
   "id": "29e075da",
   "metadata": {},
   "source": [
    "Quiz 2\n",
    "\n",
    "Use Indexing or slicing to get :\n",
    "1. i\n",
    "2. omi\n",
    "3. tmen\n",
    "4. kmte\n",
    "5. kmtn"
   ]
  },
  {
   "cell_type": "code",
   "execution_count": 43,
   "id": "0ef1a038",
   "metadata": {},
   "outputs": [
    {
     "name": "stdout",
     "output_type": "stream",
     "text": [
      "i\n",
      "omi\n",
      "tmen\n",
      "kmte\n",
      "kmtn\n"
     ]
    }
   ],
   "source": [
    "print(a[3:4])\n",
    "print(a[1:4])\n",
    "print(a[4:])\n",
    "print(a[0:7:2])\n",
    "print(a[0:5:2]+ a[a.index('n')])"
   ]
  },
  {
   "cell_type": "markdown",
   "id": "986684be",
   "metadata": {},
   "source": [
    "# Modifying a Single List Value"
   ]
  },
  {
   "cell_type": "code",
   "execution_count": 50,
   "id": "bbc5930a",
   "metadata": {},
   "outputs": [
    {
     "name": "stdout",
     "output_type": "stream",
     "text": [
      "['foo', 'bar', 'baz', 'qux', 'quux', 'corge']\n",
      "['foo', 'bar', 10, 'oke', 'quux', 'corge']\n"
     ]
    }
   ],
   "source": [
    "# Nilai dalam list dapat diganti dengan pengindeksan dan assignment sederhana\n",
    "a = ['foo','bar','baz','qux','quux','corge']\n",
    "print(a)\n",
    "a[2] = 10\n",
    "a[-3] = 'oke'\n",
    "print(a)"
   ]
  },
  {
   "cell_type": "code",
   "execution_count": 52,
   "id": "cd789d59",
   "metadata": {},
   "outputs": [
    {
     "name": "stdout",
     "output_type": "stream",
     "text": [
      "['bar', 10, 'oke', 'quux', 'corge']\n"
     ]
    }
   ],
   "source": [
    "# Nilai dalam list dapat dihapus dengan perintah del\n",
    "del(a[0])\n",
    "print(a)"
   ]
  },
  {
   "cell_type": "code",
   "execution_count": 54,
   "id": "77fc799e",
   "metadata": {},
   "outputs": [
    {
     "name": "stdout",
     "output_type": "stream",
     "text": [
      "['foo', 'bar', 'baz', 'qux', 'quux', 'corge']\n",
      "['foo', 1, 2, 3, 4, 5, 6, 'corge']\n"
     ]
    }
   ],
   "source": [
    "# Mengubah nilai dalam list dengan sekaligus\n",
    "a = ['foo','bar','baz','qux','quux','corge']\n",
    "print(a)\n",
    "a[1:5] = [1, 2, 3, 4, 5, 6]\n",
    "print(a)"
   ]
  },
  {
   "cell_type": "markdown",
   "id": "3b036676",
   "metadata": {},
   "source": [
    "# Tuple"
   ]
  },
  {
   "cell_type": "code",
   "execution_count": 55,
   "id": "b8b3e446",
   "metadata": {},
   "outputs": [
    {
     "name": "stdout",
     "output_type": "stream",
     "text": [
      "<class 'tuple'>\n"
     ]
    }
   ],
   "source": [
    "b = ('foo','bar','baz','qux','quux','corge')\n",
    "print(type(b))"
   ]
  },
  {
   "cell_type": "markdown",
   "id": "51b5759d",
   "metadata": {},
   "source": [
    "Karakteristik dalam Tuple identik dengan List, kecuali :\n",
    "\n",
    "1. Tuple tidak dapat diubah (immutable)\n",
    "2. Tuple mengapit elemen dalam tanda kurung (()) daripada tanda kurung siku ([]) "
   ]
  },
  {
   "cell_type": "code",
   "execution_count": 59,
   "id": "08285901",
   "metadata": {},
   "outputs": [
    {
     "data": {
      "text/plain": [
       "'bar'"
      ]
     },
     "execution_count": 59,
     "metadata": {},
     "output_type": "execute_result"
    }
   ],
   "source": [
    "# Packing and unpacking\n",
    "(a1,a2,a3,a4) = ('foo','bar','baz','qux')\n",
    "a2"
   ]
  },
  {
   "cell_type": "markdown",
   "id": "57abd778",
   "metadata": {},
   "source": [
    "# Dictionary"
   ]
  },
  {
   "cell_type": "code",
   "execution_count": 2,
   "id": "35f6ca57",
   "metadata": {},
   "outputs": [
    {
     "name": "stdout",
     "output_type": "stream",
     "text": [
      "{'Lampung': 'Bandar Lampung', 'Jakarta': 'Jakarta', 'Jawa Barat': 'Bandung', 'Jawa Timur': 'Surabaya'}\n",
      "Bandar Lampung\n"
     ]
    }
   ],
   "source": [
    "Dict = {'Lampung':'Bandar Lampung', 'Jakarta':'Jakarta','Jawa Barat':'Bandung','Jawa Timur':'Surabaya'}\n",
    "print(Dict)\n",
    "print(Dict['Lampung'])"
   ]
  },
  {
   "cell_type": "code",
   "execution_count": 4,
   "id": "6161ba6d",
   "metadata": {},
   "outputs": [
    {
     "name": "stdout",
     "output_type": "stream",
     "text": [
      "{'Lampung': 'Bandar Lampung', 'Jakarta': 'Jakarta', 'Jawa Barat': 'Bandung', 'Jawa Timur': 'Surabaya', 'Sumatera Selatan': 'Palembang'}\n"
     ]
    }
   ],
   "source": [
    "# Menambahkan dictionary baru\n",
    "Dict['Sumatera Selatan'] = 'Palembang'\n",
    "print(Dict)"
   ]
  },
  {
   "cell_type": "code",
   "execution_count": 6,
   "id": "60b6acea",
   "metadata": {},
   "outputs": [
    {
     "name": "stdout",
     "output_type": "stream",
     "text": [
      "{'Lampung': 'Metro', 'Jakarta': 'Jakarta', 'Jawa Barat': 'Bandung', 'Jawa Timur': 'Surabaya', 'Sumatera Selatan': 'Palembang'}\n"
     ]
    }
   ],
   "source": [
    "# Update daerah\n",
    "Dict['Lampung'] = 'Metro'\n",
    "print(Dict)"
   ]
  },
  {
   "cell_type": "code",
   "execution_count": 7,
   "id": "20d8cd74",
   "metadata": {},
   "outputs": [
    {
     "name": "stdout",
     "output_type": "stream",
     "text": [
      "{'Jakarta': 'Jakarta', 'Jawa Barat': 'Bandung', 'Jawa Timur': 'Surabaya', 'Sumatera Selatan': 'Palembang'}\n"
     ]
    }
   ],
   "source": [
    "# Del Command \n",
    "del Dict['Lampung']\n",
    "print(Dict)"
   ]
  },
  {
   "cell_type": "code",
   "execution_count": 10,
   "id": "04f612d6",
   "metadata": {},
   "outputs": [
    {
     "name": "stdout",
     "output_type": "stream",
     "text": [
      "<class 'dict'>\n"
     ]
    }
   ],
   "source": [
    "aku = {}\n",
    "print(type(aku))"
   ]
  },
  {
   "cell_type": "markdown",
   "id": "30fdb190",
   "metadata": {},
   "source": [
    "# Line Continuation"
   ]
  },
  {
   "cell_type": "code",
   "execution_count": 11,
   "id": "73cf4a71",
   "metadata": {},
   "outputs": [
    {
     "name": "stdout",
     "output_type": "stream",
     "text": [
      "True\n",
      "False\n",
      "False\n",
      "True\n",
      "True\n",
      "False\n"
     ]
    }
   ],
   "source": [
    "print(True and True) #True\n",
    "print(True and False) #False\n",
    "print(False and False) #False\n",
    "print(True or True) #True\n",
    "print(True or False) #True\n",
    "print(False or False) #False"
   ]
  },
  {
   "cell_type": "code",
   "execution_count": 12,
   "id": "934c0ff9",
   "metadata": {},
   "outputs": [
    {
     "name": "stdout",
     "output_type": "stream",
     "text": [
      "True\n",
      "False\n",
      "False\n"
     ]
    }
   ],
   "source": [
    "umur1 = 32\n",
    "umur2 = 10\n",
    "umur3 = 13\n",
    "\n",
    "print(umur1>= 18 and umur1<=65)\n",
    "print(umur2>= 18 and umur2<=65)\n",
    "print(umur3>= 18 and umur3<=65)"
   ]
  },
  {
   "cell_type": "markdown",
   "id": "c28061ad",
   "metadata": {},
   "source": [
    "# Materi Tambahan"
   ]
  },
  {
   "cell_type": "code",
   "execution_count": 14,
   "id": "7b678c0a",
   "metadata": {},
   "outputs": [
    {
     "name": "stdout",
     "output_type": "stream",
     "text": [
      "['Toyota', 'Kijang', 'Isuzu']\n"
     ]
    }
   ],
   "source": [
    "mobil = ['Toyota', 'Kijang']\n",
    "mobil = mobil + ['Isuzu']\n",
    "print(mobil)"
   ]
  },
  {
   "cell_type": "code",
   "execution_count": 15,
   "id": "ab9be839",
   "metadata": {},
   "outputs": [
    {
     "name": "stdout",
     "output_type": "stream",
     "text": [
      "['Toyota', 'Kijang', 'Isuzu']\n"
     ]
    }
   ],
   "source": [
    "mobil = ['Toyota','Kijang']\n",
    "mobil.append('Isuzu') #append untuk menambahkan nilai dalam list diurutan trakhir\n",
    "print(mobil)"
   ]
  },
  {
   "cell_type": "code",
   "execution_count": 25,
   "id": "44834693",
   "metadata": {},
   "outputs": [
    {
     "name": "stdout",
     "output_type": "stream",
     "text": [
      "['Toyota', 'Kijang', 'Isuzu']\n"
     ]
    }
   ],
   "source": [
    "kendaraan = mobil.copy() #copy untuk menduplikat suatu nilai variabel\n",
    "print(kendaraan)"
   ]
  },
  {
   "cell_type": "code",
   "execution_count": 26,
   "id": "bc9a2c2e",
   "metadata": {},
   "outputs": [
    {
     "name": "stdout",
     "output_type": "stream",
     "text": [
      "['Toyota', 'Kijang', 'Isuzu', 'Suzuki']\n",
      "['Toyota', 'Kijang', 'Isuzu']\n"
     ]
    }
   ],
   "source": [
    "kendaraan.append('Suzuki')\n",
    "\n",
    "print(kendaraan)\n",
    "print(mobil)"
   ]
  },
  {
   "cell_type": "code",
   "execution_count": 27,
   "id": "7e284a44",
   "metadata": {},
   "outputs": [],
   "source": [
    "kendaraan.remove('Suzuki')"
   ]
  },
  {
   "cell_type": "code",
   "execution_count": 28,
   "id": "ab020130",
   "metadata": {},
   "outputs": [
    {
     "name": "stdout",
     "output_type": "stream",
     "text": [
      "['Toyota', 'Kijang', 'Isuzu']\n"
     ]
    }
   ],
   "source": [
    "print(kendaraan)"
   ]
  },
  {
   "cell_type": "code",
   "execution_count": 29,
   "id": "0e65a48f",
   "metadata": {},
   "outputs": [
    {
     "name": "stdout",
     "output_type": "stream",
     "text": [
      "['Kijang', 'Suzuki']\n"
     ]
    }
   ],
   "source": [
    "mobil = ['Toyota', 'Kijang','Suzuki']\n",
    "mobil.pop(0)\n",
    "print(mobil)"
   ]
  }
 ],
 "metadata": {
  "kernelspec": {
   "display_name": "Python 3 (ipykernel)",
   "language": "python",
   "name": "python3"
  },
  "language_info": {
   "codemirror_mode": {
    "name": "ipython",
    "version": 3
   },
   "file_extension": ".py",
   "mimetype": "text/x-python",
   "name": "python",
   "nbconvert_exporter": "python",
   "pygments_lexer": "ipython3",
   "version": "3.9.12"
  },
  "toc": {
   "base_numbering": 1,
   "nav_menu": {},
   "number_sections": true,
   "sideBar": true,
   "skip_h1_title": false,
   "title_cell": "Table of Contents",
   "title_sidebar": "Contents",
   "toc_cell": false,
   "toc_position": {},
   "toc_section_display": true,
   "toc_window_display": false
  }
 },
 "nbformat": 4,
 "nbformat_minor": 5
}
