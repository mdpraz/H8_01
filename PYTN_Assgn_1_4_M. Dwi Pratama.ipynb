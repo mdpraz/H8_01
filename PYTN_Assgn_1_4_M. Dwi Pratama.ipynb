{
 "cells": [
  {
   "cell_type": "markdown",
   "id": "683f6aff",
   "metadata": {},
   "source": [
    "# ASSIGNMENT 1"
   ]
  },
  {
   "cell_type": "code",
   "execution_count": 1,
   "id": "294f6e81",
   "metadata": {},
   "outputs": [
    {
     "name": "stdout",
     "output_type": "stream",
     "text": [
      "['Solarize_Light2', '_classic_test_patch', '_mpl-gallery', '_mpl-gallery-nogrid', 'bmh', 'classic', 'dark_background', 'fast', 'fivethirtyeight', 'ggplot', 'grayscale', 'seaborn', 'seaborn-bright', 'seaborn-colorblind', 'seaborn-dark', 'seaborn-dark-palette', 'seaborn-darkgrid', 'seaborn-deep', 'seaborn-muted', 'seaborn-notebook', 'seaborn-paper', 'seaborn-pastel', 'seaborn-poster', 'seaborn-talk', 'seaborn-ticks', 'seaborn-white', 'seaborn-whitegrid', 'tableau-colorblind10']\n"
     ]
    }
   ],
   "source": [
    "import pandas as pd \n",
    "import numpy as np\n",
    "import matplotlib as mpl\n",
    "import matplotlib.pyplot as plt\n",
    "%matplotlib inline\n",
    "print(plt.style.available)\n",
    "plt.style.use('Solarize_Light2')"
   ]
  },
  {
   "cell_type": "code",
   "execution_count": 2,
   "id": "2899bdad",
   "metadata": {},
   "outputs": [],
   "source": [
    "df = pd.read_csv('london_crime_by_lsoa.csv')"
   ]
  },
  {
   "cell_type": "code",
   "execution_count": 3,
   "id": "7154fa37",
   "metadata": {},
   "outputs": [
    {
     "data": {
      "text/html": [
       "<div>\n",
       "<style scoped>\n",
       "    .dataframe tbody tr th:only-of-type {\n",
       "        vertical-align: middle;\n",
       "    }\n",
       "\n",
       "    .dataframe tbody tr th {\n",
       "        vertical-align: top;\n",
       "    }\n",
       "\n",
       "    .dataframe thead th {\n",
       "        text-align: right;\n",
       "    }\n",
       "</style>\n",
       "<table border=\"1\" class=\"dataframe\">\n",
       "  <thead>\n",
       "    <tr style=\"text-align: right;\">\n",
       "      <th></th>\n",
       "      <th>lsoa_code</th>\n",
       "      <th>borough</th>\n",
       "      <th>major_category</th>\n",
       "      <th>minor_category</th>\n",
       "      <th>value</th>\n",
       "      <th>year</th>\n",
       "      <th>month</th>\n",
       "    </tr>\n",
       "  </thead>\n",
       "  <tbody>\n",
       "    <tr>\n",
       "      <th>0</th>\n",
       "      <td>E01001116</td>\n",
       "      <td>Croydon</td>\n",
       "      <td>Burglary</td>\n",
       "      <td>Burglary in Other Buildings</td>\n",
       "      <td>0</td>\n",
       "      <td>2016</td>\n",
       "      <td>11</td>\n",
       "    </tr>\n",
       "    <tr>\n",
       "      <th>1</th>\n",
       "      <td>E01001646</td>\n",
       "      <td>Greenwich</td>\n",
       "      <td>Violence Against the Person</td>\n",
       "      <td>Other violence</td>\n",
       "      <td>0</td>\n",
       "      <td>2016</td>\n",
       "      <td>11</td>\n",
       "    </tr>\n",
       "    <tr>\n",
       "      <th>2</th>\n",
       "      <td>E01000677</td>\n",
       "      <td>Bromley</td>\n",
       "      <td>Violence Against the Person</td>\n",
       "      <td>Other violence</td>\n",
       "      <td>0</td>\n",
       "      <td>2015</td>\n",
       "      <td>5</td>\n",
       "    </tr>\n",
       "    <tr>\n",
       "      <th>3</th>\n",
       "      <td>E01003774</td>\n",
       "      <td>Redbridge</td>\n",
       "      <td>Burglary</td>\n",
       "      <td>Burglary in Other Buildings</td>\n",
       "      <td>0</td>\n",
       "      <td>2016</td>\n",
       "      <td>3</td>\n",
       "    </tr>\n",
       "    <tr>\n",
       "      <th>4</th>\n",
       "      <td>E01004563</td>\n",
       "      <td>Wandsworth</td>\n",
       "      <td>Robbery</td>\n",
       "      <td>Personal Property</td>\n",
       "      <td>0</td>\n",
       "      <td>2008</td>\n",
       "      <td>6</td>\n",
       "    </tr>\n",
       "  </tbody>\n",
       "</table>\n",
       "</div>"
      ],
      "text/plain": [
       "   lsoa_code     borough               major_category  \\\n",
       "0  E01001116     Croydon                     Burglary   \n",
       "1  E01001646   Greenwich  Violence Against the Person   \n",
       "2  E01000677     Bromley  Violence Against the Person   \n",
       "3  E01003774   Redbridge                     Burglary   \n",
       "4  E01004563  Wandsworth                      Robbery   \n",
       "\n",
       "                minor_category  value  year  month  \n",
       "0  Burglary in Other Buildings      0  2016     11  \n",
       "1               Other violence      0  2016     11  \n",
       "2               Other violence      0  2015      5  \n",
       "3  Burglary in Other Buildings      0  2016      3  \n",
       "4            Personal Property      0  2008      6  "
      ]
     },
     "execution_count": 3,
     "metadata": {},
     "output_type": "execute_result"
    }
   ],
   "source": [
    "df.head()"
   ]
  },
  {
   "cell_type": "code",
   "execution_count": 4,
   "id": "d5f10b5d",
   "metadata": {
    "scrolled": true
   },
   "outputs": [
    {
     "data": {
      "text/plain": [
       "(13490604, 7)"
      ]
     },
     "execution_count": 4,
     "metadata": {},
     "output_type": "execute_result"
    }
   ],
   "source": [
    "df.shape"
   ]
  },
  {
   "cell_type": "markdown",
   "id": "c56ccc71",
   "metadata": {},
   "source": [
    "Diketahui bahwa data memiliki 7 kolom dan 13.490.604 baris"
   ]
  },
  {
   "cell_type": "code",
   "execution_count": 5,
   "id": "06963818",
   "metadata": {
    "scrolled": true
   },
   "outputs": [
    {
     "data": {
      "text/plain": [
       "lsoa_code         0\n",
       "borough           0\n",
       "major_category    0\n",
       "minor_category    0\n",
       "value             0\n",
       "year              0\n",
       "month             0\n",
       "dtype: int64"
      ]
     },
     "execution_count": 5,
     "metadata": {},
     "output_type": "execute_result"
    }
   ],
   "source": [
    "df.isnull().sum()"
   ]
  },
  {
   "cell_type": "markdown",
   "id": "c9acbc35",
   "metadata": {},
   "source": [
    "Diketahui bahwa tidak ada missing value pada variabel "
   ]
  },
  {
   "cell_type": "markdown",
   "id": "d664df7e",
   "metadata": {},
   "source": [
    "## Filtering Data Total Value per-year"
   ]
  },
  {
   "cell_type": "code",
   "execution_count": 6,
   "id": "3a5ad85a",
   "metadata": {},
   "outputs": [],
   "source": [
    "year = df['year'].unique()\n",
    "total = df.groupby('year').sum()\n",
    "totals = total['value'].to_numpy()"
   ]
  },
  {
   "cell_type": "code",
   "execution_count": 7,
   "id": "aa108549",
   "metadata": {},
   "outputs": [],
   "source": [
    "jumlah = total['value']"
   ]
  },
  {
   "cell_type": "code",
   "execution_count": 8,
   "id": "438762f3",
   "metadata": {},
   "outputs": [
    {
     "data": {
      "text/plain": [
       "year\n",
       "2008    738641\n",
       "2009    717214\n",
       "2010    715324\n",
       "2011    724915\n",
       "2012    737329\n",
       "2013    686407\n",
       "2014    680183\n",
       "2015    711624\n",
       "2016    736121\n",
       "Name: value, dtype: int64"
      ]
     },
     "execution_count": 8,
     "metadata": {},
     "output_type": "execute_result"
    }
   ],
   "source": [
    "jumlah"
   ]
  },
  {
   "cell_type": "code",
   "execution_count": 9,
   "id": "3c3664c0",
   "metadata": {},
   "outputs": [
    {
     "data": {
      "text/plain": [
       "count         9.000000\n",
       "mean     716417.555556\n",
       "std       21301.370555\n",
       "min      680183.000000\n",
       "25%      711624.000000\n",
       "50%      717214.000000\n",
       "75%      736121.000000\n",
       "max      738641.000000\n",
       "Name: value, dtype: float64"
      ]
     },
     "execution_count": 9,
     "metadata": {},
     "output_type": "execute_result"
    }
   ],
   "source": [
    "jumlah.describe()"
   ]
  },
  {
   "cell_type": "code",
   "execution_count": 10,
   "id": "21e063d2",
   "metadata": {},
   "outputs": [
    {
     "data": {
      "text/html": [
       "<div>\n",
       "<style scoped>\n",
       "    .dataframe tbody tr th:only-of-type {\n",
       "        vertical-align: middle;\n",
       "    }\n",
       "\n",
       "    .dataframe tbody tr th {\n",
       "        vertical-align: top;\n",
       "    }\n",
       "\n",
       "    .dataframe thead th {\n",
       "        text-align: right;\n",
       "    }\n",
       "</style>\n",
       "<table border=\"1\" class=\"dataframe\">\n",
       "  <thead>\n",
       "    <tr style=\"text-align: right;\">\n",
       "      <th></th>\n",
       "      <th>value</th>\n",
       "    </tr>\n",
       "    <tr>\n",
       "      <th>year</th>\n",
       "      <th></th>\n",
       "    </tr>\n",
       "  </thead>\n",
       "  <tbody>\n",
       "    <tr>\n",
       "      <th>2008</th>\n",
       "      <td>738641</td>\n",
       "    </tr>\n",
       "    <tr>\n",
       "      <th>2009</th>\n",
       "      <td>717214</td>\n",
       "    </tr>\n",
       "    <tr>\n",
       "      <th>2010</th>\n",
       "      <td>715324</td>\n",
       "    </tr>\n",
       "    <tr>\n",
       "      <th>2011</th>\n",
       "      <td>724915</td>\n",
       "    </tr>\n",
       "    <tr>\n",
       "      <th>2012</th>\n",
       "      <td>737329</td>\n",
       "    </tr>\n",
       "    <tr>\n",
       "      <th>2013</th>\n",
       "      <td>686407</td>\n",
       "    </tr>\n",
       "    <tr>\n",
       "      <th>2014</th>\n",
       "      <td>680183</td>\n",
       "    </tr>\n",
       "    <tr>\n",
       "      <th>2015</th>\n",
       "      <td>711624</td>\n",
       "    </tr>\n",
       "    <tr>\n",
       "      <th>2016</th>\n",
       "      <td>736121</td>\n",
       "    </tr>\n",
       "  </tbody>\n",
       "</table>\n",
       "</div>"
      ],
      "text/plain": [
       "       value\n",
       "year        \n",
       "2008  738641\n",
       "2009  717214\n",
       "2010  715324\n",
       "2011  724915\n",
       "2012  737329\n",
       "2013  686407\n",
       "2014  680183\n",
       "2015  711624\n",
       "2016  736121"
      ]
     },
     "execution_count": 10,
     "metadata": {},
     "output_type": "execute_result"
    }
   ],
   "source": [
    "total.drop(columns=['month'])"
   ]
  },
  {
   "cell_type": "code",
   "execution_count": 11,
   "id": "f36f99dd",
   "metadata": {},
   "outputs": [
    {
     "name": "stdout",
     "output_type": "stream",
     "text": [
      "<class 'pandas.core.frame.DataFrame'>\n",
      "Int64Index: 9 entries, 2008 to 2016\n",
      "Data columns (total 2 columns):\n",
      " #   Column  Non-Null Count  Dtype\n",
      "---  ------  --------------  -----\n",
      " 0   value   9 non-null      int64\n",
      " 1   month   9 non-null      int64\n",
      "dtypes: int64(2)\n",
      "memory usage: 216.0 bytes\n"
     ]
    }
   ],
   "source": [
    "total.info()"
   ]
  },
  {
   "cell_type": "code",
   "execution_count": 12,
   "id": "75c71f0f",
   "metadata": {},
   "outputs": [
    {
     "data": {
      "text/plain": [
       "year\n",
       "2008    738641\n",
       "2009    717214\n",
       "2010    715324\n",
       "2011    724915\n",
       "2012    737329\n",
       "2013    686407\n",
       "2014    680183\n",
       "2015    711624\n",
       "2016    736121\n",
       "Name: value, dtype: int64"
      ]
     },
     "execution_count": 12,
     "metadata": {},
     "output_type": "execute_result"
    }
   ],
   "source": [
    "total_crimes = total['value']\n",
    "total_crimes"
   ]
  },
  {
   "cell_type": "code",
   "execution_count": 13,
   "id": "d0980e6d",
   "metadata": {},
   "outputs": [
    {
     "data": {
      "image/png": "[encoded data removed]",
      "text/plain": [
       "<Figure size 864x576 with 1 Axes>"
      ]
     },
     "metadata": {},
     "output_type": "display_data"
    }
   ],
   "source": [
    "total_crimes.plot(kind='line', color='darkslateblue', figsize=(12,8))\n",
    "plt.title('Line Plot Total Crimes in London from 2008 to 2016', fontsize=25)\n",
    "plt.xlabel('Year', fontsize=20, color='black')\n",
    "plt.ylabel('Number of Crimes', fontsize=20, color='black')\n",
    "plt.show()"
   ]
  },
  {
   "cell_type": "markdown",
   "id": "e1b6641c",
   "metadata": {},
   "source": [
    "Dari line plot diatas diketahui bahwa total kriminalitas (crimes) yang terjadi di London sempat mengalami penurunan yang cukup signifikan pada tahun 2013, namun tingkat kriminalitas mengalami kenaikan lagi pada tahun 2016 yaitu menjadi total 736.121 kasus kriminal."
   ]
  },
  {
   "cell_type": "code",
   "execution_count": 14,
   "id": "af16d825",
   "metadata": {},
   "outputs": [],
   "source": [
    "major_category_max = df.groupby(['major_category']).sum()"
   ]
  },
  {
   "cell_type": "code",
   "execution_count": 15,
   "id": "9bd57404",
   "metadata": {},
   "outputs": [
    {
     "data": {
      "text/html": [
       "<div>\n",
       "<style scoped>\n",
       "    .dataframe tbody tr th:only-of-type {\n",
       "        vertical-align: middle;\n",
       "    }\n",
       "\n",
       "    .dataframe tbody tr th {\n",
       "        vertical-align: top;\n",
       "    }\n",
       "\n",
       "    .dataframe thead th {\n",
       "        text-align: right;\n",
       "    }\n",
       "</style>\n",
       "<table border=\"1\" class=\"dataframe\">\n",
       "  <thead>\n",
       "    <tr style=\"text-align: right;\">\n",
       "      <th></th>\n",
       "      <th>value</th>\n",
       "    </tr>\n",
       "    <tr>\n",
       "      <th>major_category</th>\n",
       "      <th></th>\n",
       "    </tr>\n",
       "  </thead>\n",
       "  <tbody>\n",
       "    <tr>\n",
       "      <th>Theft and Handling</th>\n",
       "      <td>2661861</td>\n",
       "    </tr>\n",
       "    <tr>\n",
       "      <th>Violence Against the Person</th>\n",
       "      <td>1558081</td>\n",
       "    </tr>\n",
       "    <tr>\n",
       "      <th>Burglary</th>\n",
       "      <td>754293</td>\n",
       "    </tr>\n",
       "    <tr>\n",
       "      <th>Criminal Damage</th>\n",
       "      <td>630938</td>\n",
       "    </tr>\n",
       "    <tr>\n",
       "      <th>Drugs</th>\n",
       "      <td>470765</td>\n",
       "    </tr>\n",
       "    <tr>\n",
       "      <th>Robbery</th>\n",
       "      <td>258873</td>\n",
       "    </tr>\n",
       "    <tr>\n",
       "      <th>Other Notifiable Offences</th>\n",
       "      <td>106349</td>\n",
       "    </tr>\n",
       "    <tr>\n",
       "      <th>Fraud or Forgery</th>\n",
       "      <td>5325</td>\n",
       "    </tr>\n",
       "    <tr>\n",
       "      <th>Sexual Offences</th>\n",
       "      <td>1273</td>\n",
       "    </tr>\n",
       "  </tbody>\n",
       "</table>\n",
       "</div>"
      ],
      "text/plain": [
       "                               value\n",
       "major_category                      \n",
       "Theft and Handling           2661861\n",
       "Violence Against the Person  1558081\n",
       "Burglary                      754293\n",
       "Criminal Damage               630938\n",
       "Drugs                         470765\n",
       "Robbery                       258873\n",
       "Other Notifiable Offences     106349\n",
       "Fraud or Forgery                5325\n",
       "Sexual Offences                 1273"
      ]
     },
     "execution_count": 15,
     "metadata": {},
     "output_type": "execute_result"
    }
   ],
   "source": [
    "major_category_max.drop(columns=['year','month'], inplace=True)\n",
    "major_category_max.sort_values(by='value', ascending=False)"
   ]
  },
  {
   "cell_type": "markdown",
   "id": "bf22ad8b",
   "metadata": {},
   "source": [
    "Dari tabel diatas diketahui kriminalitas yang paling banyak terjadi di london sepanjang tahun 2008-2016 adalah kriminalitas terkait Theft and Handling."
   ]
  },
  {
   "cell_type": "code",
   "execution_count": 16,
   "id": "1c6e2e32",
   "metadata": {},
   "outputs": [],
   "source": [
    "borough_max = df.groupby(['borough']).sum()"
   ]
  },
  {
   "cell_type": "code",
   "execution_count": 17,
   "id": "d77dfb58",
   "metadata": {},
   "outputs": [
    {
     "data": {
      "text/html": [
       "<div>\n",
       "<style scoped>\n",
       "    .dataframe tbody tr th:only-of-type {\n",
       "        vertical-align: middle;\n",
       "    }\n",
       "\n",
       "    .dataframe tbody tr th {\n",
       "        vertical-align: top;\n",
       "    }\n",
       "\n",
       "    .dataframe thead th {\n",
       "        text-align: right;\n",
       "    }\n",
       "</style>\n",
       "<table border=\"1\" class=\"dataframe\">\n",
       "  <thead>\n",
       "    <tr style=\"text-align: right;\">\n",
       "      <th></th>\n",
       "      <th>value</th>\n",
       "    </tr>\n",
       "    <tr>\n",
       "      <th>borough</th>\n",
       "      <th></th>\n",
       "    </tr>\n",
       "  </thead>\n",
       "  <tbody>\n",
       "    <tr>\n",
       "      <th>Westminster</th>\n",
       "      <td>455028</td>\n",
       "    </tr>\n",
       "    <tr>\n",
       "      <th>Lambeth</th>\n",
       "      <td>292178</td>\n",
       "    </tr>\n",
       "    <tr>\n",
       "      <th>Southwark</th>\n",
       "      <td>278809</td>\n",
       "    </tr>\n",
       "    <tr>\n",
       "      <th>Camden</th>\n",
       "      <td>275147</td>\n",
       "    </tr>\n",
       "    <tr>\n",
       "      <th>Newham</th>\n",
       "      <td>262024</td>\n",
       "    </tr>\n",
       "    <tr>\n",
       "      <th>Croydon</th>\n",
       "      <td>260294</td>\n",
       "    </tr>\n",
       "    <tr>\n",
       "      <th>Ealing</th>\n",
       "      <td>251562</td>\n",
       "    </tr>\n",
       "    <tr>\n",
       "      <th>Islington</th>\n",
       "      <td>230286</td>\n",
       "    </tr>\n",
       "    <tr>\n",
       "      <th>Tower Hamlets</th>\n",
       "      <td>228613</td>\n",
       "    </tr>\n",
       "    <tr>\n",
       "      <th>Brent</th>\n",
       "      <td>227551</td>\n",
       "    </tr>\n",
       "    <tr>\n",
       "      <th>Hackney</th>\n",
       "      <td>217119</td>\n",
       "    </tr>\n",
       "    <tr>\n",
       "      <th>Lewisham</th>\n",
       "      <td>215137</td>\n",
       "    </tr>\n",
       "    <tr>\n",
       "      <th>Haringey</th>\n",
       "      <td>213272</td>\n",
       "    </tr>\n",
       "    <tr>\n",
       "      <th>Barnet</th>\n",
       "      <td>212191</td>\n",
       "    </tr>\n",
       "    <tr>\n",
       "      <th>Hillingdon</th>\n",
       "      <td>209680</td>\n",
       "    </tr>\n",
       "    <tr>\n",
       "      <th>Wandsworth</th>\n",
       "      <td>204741</td>\n",
       "    </tr>\n",
       "    <tr>\n",
       "      <th>Waltham Forest</th>\n",
       "      <td>203879</td>\n",
       "    </tr>\n",
       "    <tr>\n",
       "      <th>Enfield</th>\n",
       "      <td>193880</td>\n",
       "    </tr>\n",
       "    <tr>\n",
       "      <th>Hounslow</th>\n",
       "      <td>186772</td>\n",
       "    </tr>\n",
       "    <tr>\n",
       "      <th>Hammersmith and Fulham</th>\n",
       "      <td>185259</td>\n",
       "    </tr>\n",
       "    <tr>\n",
       "      <th>Bromley</th>\n",
       "      <td>184349</td>\n",
       "    </tr>\n",
       "    <tr>\n",
       "      <th>Redbridge</th>\n",
       "      <td>183562</td>\n",
       "    </tr>\n",
       "    <tr>\n",
       "      <th>Greenwich</th>\n",
       "      <td>181568</td>\n",
       "    </tr>\n",
       "    <tr>\n",
       "      <th>Kensington and Chelsea</th>\n",
       "      <td>171981</td>\n",
       "    </tr>\n",
       "    <tr>\n",
       "      <th>Barking and Dagenham</th>\n",
       "      <td>149447</td>\n",
       "    </tr>\n",
       "    <tr>\n",
       "      <th>Havering</th>\n",
       "      <td>138947</td>\n",
       "    </tr>\n",
       "    <tr>\n",
       "      <th>Harrow</th>\n",
       "      <td>116848</td>\n",
       "    </tr>\n",
       "    <tr>\n",
       "      <th>Merton</th>\n",
       "      <td>115654</td>\n",
       "    </tr>\n",
       "    <tr>\n",
       "      <th>Bexley</th>\n",
       "      <td>114136</td>\n",
       "    </tr>\n",
       "    <tr>\n",
       "      <th>Sutton</th>\n",
       "      <td>100987</td>\n",
       "    </tr>\n",
       "    <tr>\n",
       "      <th>Richmond upon Thames</th>\n",
       "      <td>96771</td>\n",
       "    </tr>\n",
       "    <tr>\n",
       "      <th>Kingston upon Thames</th>\n",
       "      <td>89306</td>\n",
       "    </tr>\n",
       "    <tr>\n",
       "      <th>City of London</th>\n",
       "      <td>780</td>\n",
       "    </tr>\n",
       "  </tbody>\n",
       "</table>\n",
       "</div>"
      ],
      "text/plain": [
       "                         value\n",
       "borough                       \n",
       "Westminster             455028\n",
       "Lambeth                 292178\n",
       "Southwark               278809\n",
       "Camden                  275147\n",
       "Newham                  262024\n",
       "Croydon                 260294\n",
       "Ealing                  251562\n",
       "Islington               230286\n",
       "Tower Hamlets           228613\n",
       "Brent                   227551\n",
       "Hackney                 217119\n",
       "Lewisham                215137\n",
       "Haringey                213272\n",
       "Barnet                  212191\n",
       "Hillingdon              209680\n",
       "Wandsworth              204741\n",
       "Waltham Forest          203879\n",
       "Enfield                 193880\n",
       "Hounslow                186772\n",
       "Hammersmith and Fulham  185259\n",
       "Bromley                 184349\n",
       "Redbridge               183562\n",
       "Greenwich               181568\n",
       "Kensington and Chelsea  171981\n",
       "Barking and Dagenham    149447\n",
       "Havering                138947\n",
       "Harrow                  116848\n",
       "Merton                  115654\n",
       "Bexley                  114136\n",
       "Sutton                  100987\n",
       "Richmond upon Thames     96771\n",
       "Kingston upon Thames     89306\n",
       "City of London             780"
      ]
     },
     "execution_count": 17,
     "metadata": {},
     "output_type": "execute_result"
    }
   ],
   "source": [
    "borough_max.drop(columns=['year','month'], inplace=True)\n",
    "borough_max.sort_values(by='value', ascending=False)"
   ]
  },
  {
   "cell_type": "markdown",
   "id": "6cfff30d",
   "metadata": {},
   "source": [
    "Dari tabel diatas dapat diketahui bahwa 5 wilayah (borough) teratas di london yang paling banyak terjadi tingkat kriminalitas yaitu Westminster, Lambeth, Southwark, Camden, and Newham"
   ]
  },
  {
   "cell_type": "code",
   "execution_count": 18,
   "id": "8f8990c3",
   "metadata": {},
   "outputs": [],
   "source": [
    "# Filter Data untuk Membuat Area Chart\n",
    "boroughs = ['Westminster', 'Lambeth', 'Southwark', 'Camden', 'Newham']\n",
    "crime_type = 'Theft and Handling'\n",
    "colors_borough = ['darkslateblue','green','yellow','blue','red']\n",
    "df_filter = df[(df['major_category'] == crime_type) & (df['borough'].isin(boroughs))]"
   ]
  },
  {
   "cell_type": "code",
   "execution_count": 19,
   "id": "8e8322ee",
   "metadata": {
    "scrolled": true
   },
   "outputs": [
    {
     "data": {
      "text/html": [
       "<div>\n",
       "<style scoped>\n",
       "    .dataframe tbody tr th:only-of-type {\n",
       "        vertical-align: middle;\n",
       "    }\n",
       "\n",
       "    .dataframe tbody tr th {\n",
       "        vertical-align: top;\n",
       "    }\n",
       "\n",
       "    .dataframe thead th {\n",
       "        text-align: right;\n",
       "    }\n",
       "</style>\n",
       "<table border=\"1\" class=\"dataframe\">\n",
       "  <thead>\n",
       "    <tr style=\"text-align: right;\">\n",
       "      <th></th>\n",
       "      <th>lsoa_code</th>\n",
       "      <th>borough</th>\n",
       "      <th>major_category</th>\n",
       "      <th>minor_category</th>\n",
       "      <th>value</th>\n",
       "      <th>year</th>\n",
       "      <th>month</th>\n",
       "    </tr>\n",
       "  </thead>\n",
       "  <tbody>\n",
       "    <tr>\n",
       "      <th>21</th>\n",
       "      <td>E01004660</td>\n",
       "      <td>Westminster</td>\n",
       "      <td>Theft and Handling</td>\n",
       "      <td>Handling Stolen Goods</td>\n",
       "      <td>0</td>\n",
       "      <td>2012</td>\n",
       "      <td>2</td>\n",
       "    </tr>\n",
       "    <tr>\n",
       "      <th>38</th>\n",
       "      <td>E01003067</td>\n",
       "      <td>Lambeth</td>\n",
       "      <td>Theft and Handling</td>\n",
       "      <td>Handling Stolen Goods</td>\n",
       "      <td>0</td>\n",
       "      <td>2010</td>\n",
       "      <td>8</td>\n",
       "    </tr>\n",
       "    <tr>\n",
       "      <th>47</th>\n",
       "      <td>E01003064</td>\n",
       "      <td>Lambeth</td>\n",
       "      <td>Theft and Handling</td>\n",
       "      <td>Theft From Shops</td>\n",
       "      <td>0</td>\n",
       "      <td>2013</td>\n",
       "      <td>7</td>\n",
       "    </tr>\n",
       "    <tr>\n",
       "      <th>58</th>\n",
       "      <td>E01000893</td>\n",
       "      <td>Camden</td>\n",
       "      <td>Theft and Handling</td>\n",
       "      <td>Theft/Taking Of Motor Vehicle</td>\n",
       "      <td>0</td>\n",
       "      <td>2012</td>\n",
       "      <td>9</td>\n",
       "    </tr>\n",
       "    <tr>\n",
       "      <th>64</th>\n",
       "      <td>E01003989</td>\n",
       "      <td>Southwark</td>\n",
       "      <td>Theft and Handling</td>\n",
       "      <td>Theft From Shops</td>\n",
       "      <td>4</td>\n",
       "      <td>2016</td>\n",
       "      <td>8</td>\n",
       "    </tr>\n",
       "    <tr>\n",
       "      <th>...</th>\n",
       "      <td>...</td>\n",
       "      <td>...</td>\n",
       "      <td>...</td>\n",
       "      <td>...</td>\n",
       "      <td>...</td>\n",
       "      <td>...</td>\n",
       "      <td>...</td>\n",
       "    </tr>\n",
       "    <tr>\n",
       "      <th>13490534</th>\n",
       "      <td>E01003945</td>\n",
       "      <td>Southwark</td>\n",
       "      <td>Theft and Handling</td>\n",
       "      <td>Theft/Taking Of Motor Vehicle</td>\n",
       "      <td>1</td>\n",
       "      <td>2012</td>\n",
       "      <td>7</td>\n",
       "    </tr>\n",
       "    <tr>\n",
       "      <th>13490545</th>\n",
       "      <td>E01004712</td>\n",
       "      <td>Westminster</td>\n",
       "      <td>Theft and Handling</td>\n",
       "      <td>Other Theft</td>\n",
       "      <td>17</td>\n",
       "      <td>2012</td>\n",
       "      <td>6</td>\n",
       "    </tr>\n",
       "    <tr>\n",
       "      <th>13490554</th>\n",
       "      <td>E01033576</td>\n",
       "      <td>Newham</td>\n",
       "      <td>Theft and Handling</td>\n",
       "      <td>Other Theft Person</td>\n",
       "      <td>0</td>\n",
       "      <td>2009</td>\n",
       "      <td>5</td>\n",
       "    </tr>\n",
       "    <tr>\n",
       "      <th>13490565</th>\n",
       "      <td>E01004742</td>\n",
       "      <td>Westminster</td>\n",
       "      <td>Theft and Handling</td>\n",
       "      <td>Theft/Taking of Pedal Cycle</td>\n",
       "      <td>0</td>\n",
       "      <td>2016</td>\n",
       "      <td>9</td>\n",
       "    </tr>\n",
       "    <tr>\n",
       "      <th>13490567</th>\n",
       "      <td>E01004071</td>\n",
       "      <td>Southwark</td>\n",
       "      <td>Theft and Handling</td>\n",
       "      <td>Motor Vehicle Interference &amp; Tampering</td>\n",
       "      <td>0</td>\n",
       "      <td>2008</td>\n",
       "      <td>6</td>\n",
       "    </tr>\n",
       "  </tbody>\n",
       "</table>\n",
       "<p>645840 rows × 7 columns</p>\n",
       "</div>"
      ],
      "text/plain": [
       "          lsoa_code      borough      major_category  \\\n",
       "21        E01004660  Westminster  Theft and Handling   \n",
       "38        E01003067      Lambeth  Theft and Handling   \n",
       "47        E01003064      Lambeth  Theft and Handling   \n",
       "58        E01000893       Camden  Theft and Handling   \n",
       "64        E01003989    Southwark  Theft and Handling   \n",
       "...             ...          ...                 ...   \n",
       "13490534  E01003945    Southwark  Theft and Handling   \n",
       "13490545  E01004712  Westminster  Theft and Handling   \n",
       "13490554  E01033576       Newham  Theft and Handling   \n",
       "13490565  E01004742  Westminster  Theft and Handling   \n",
       "13490567  E01004071    Southwark  Theft and Handling   \n",
       "\n",
       "                                  minor_category  value  year  month  \n",
       "21                         Handling Stolen Goods      0  2012      2  \n",
       "38                         Handling Stolen Goods      0  2010      8  \n",
       "47                              Theft From Shops      0  2013      7  \n",
       "58                 Theft/Taking Of Motor Vehicle      0  2012      9  \n",
       "64                              Theft From Shops      4  2016      8  \n",
       "...                                          ...    ...   ...    ...  \n",
       "13490534           Theft/Taking Of Motor Vehicle      1  2012      7  \n",
       "13490545                             Other Theft     17  2012      6  \n",
       "13490554                      Other Theft Person      0  2009      5  \n",
       "13490565             Theft/Taking of Pedal Cycle      0  2016      9  \n",
       "13490567  Motor Vehicle Interference & Tampering      0  2008      6  \n",
       "\n",
       "[645840 rows x 7 columns]"
      ]
     },
     "execution_count": 19,
     "metadata": {},
     "output_type": "execute_result"
    }
   ],
   "source": [
    "df_filter"
   ]
  },
  {
   "cell_type": "code",
   "execution_count": 20,
   "id": "73dabb61",
   "metadata": {},
   "outputs": [
    {
     "data": {
      "image/png": "[encoded data removed]",
      "text/plain": [
       "<Figure size 576x360 with 1 Axes>"
      ]
     },
     "metadata": {},
     "output_type": "display_data"
    }
   ],
   "source": [
    "# Group data month dan borough kemudian sum jumlah kriminalitas (crimes) \n",
    "group = df_filter.groupby(['borough', 'year'])['value'].sum().reset_index()\n",
    "\n",
    "# Pivot Data untuk membuat borough menjadi kolom\n",
    "pivot = group.pivot(index='year', columns='borough', values='value')\n",
    "\n",
    "# Membuat Area Chart\n",
    "pivot.plot(kind='area', stacked=False, figsize=(8,5), alpha=0.5, color=colors_borough)\n",
    "\n",
    "# Set titel dan label\n",
    "plt.title('Total Theft Crimes in Top 5 London Boroughs from 2008 to 2016', y=1.04,fontsize=18)\n",
    "plt.xlabel('Year', fontsize=14, color='black')\n",
    "plt.ylabel('Total Number of Crimes', fontsize=14, color='black')\n",
    "plt.legend(loc='upper left')\n",
    "plt.show()"
   ]
  },
  {
   "cell_type": "markdown",
   "id": "b2e067af",
   "metadata": {},
   "source": [
    "Dapat terlihat dari area chart diatas bahwa wilayah Westminster memiliki jumlah theft kriminalitas paling banyak dari wilayah lainnya."
   ]
  },
  {
   "cell_type": "code",
   "execution_count": 21,
   "id": "50d0b378",
   "metadata": {
    "scrolled": true
   },
   "outputs": [
    {
     "data": {
      "image/png": "[encoded data removed]",
      "text/plain": [
       "<Figure size 576x360 with 1 Axes>"
      ]
     },
     "metadata": {},
     "output_type": "display_data"
    }
   ],
   "source": [
    "# Group data month dan borough kemudian sum jumlah kriminalitas (crimes) \n",
    "group = df_filter.groupby(['borough', 'year'])['value'].sum().reset_index()\n",
    "\n",
    "# Pivot Data untuk membuat borough menjadi kolom\n",
    "pivot = group.pivot(index='year', columns='borough', values='value')\n",
    "\n",
    "# Membuat area chart\n",
    "pivot.plot(kind='area', stacked=True, figsize=(8,5), alpha=0.5, color=colors_borough)\n",
    "\n",
    "# Set titel dan label\n",
    "plt.title('Total Theft Crimes in 5 London Boroughs from 2008 to 2016', y=1.04,fontsize=18)\n",
    "plt.xlabel('Year', fontsize=14, color='black')\n",
    "plt.ylabel('Total Number of Crimes', fontsize=14, color='black')\n",
    "plt.legend(loc='upper left')\n",
    "plt.show()"
   ]
  },
  {
   "cell_type": "markdown",
   "id": "a9f2fda6",
   "metadata": {},
   "source": [
    "Berikut merupakan area chart stacked dari total theft crimes in 5 london boroughs dari tahun 2008 sampai 2016, terlihat bahwa Wersminster memiliki total kejahatan theft yang paling banyak."
   ]
  },
  {
   "cell_type": "code",
   "execution_count": 22,
   "id": "e07acc62",
   "metadata": {},
   "outputs": [
    {
     "data": {
      "text/html": [
       "<div>\n",
       "<style scoped>\n",
       "    .dataframe tbody tr th:only-of-type {\n",
       "        vertical-align: middle;\n",
       "    }\n",
       "\n",
       "    .dataframe tbody tr th {\n",
       "        vertical-align: top;\n",
       "    }\n",
       "\n",
       "    .dataframe thead th {\n",
       "        text-align: right;\n",
       "    }\n",
       "</style>\n",
       "<table border=\"1\" class=\"dataframe\">\n",
       "  <thead>\n",
       "    <tr style=\"text-align: right;\">\n",
       "      <th>borough</th>\n",
       "      <th>Camden</th>\n",
       "      <th>Lambeth</th>\n",
       "      <th>Newham</th>\n",
       "      <th>Southwark</th>\n",
       "      <th>Westminster</th>\n",
       "    </tr>\n",
       "    <tr>\n",
       "      <th>year</th>\n",
       "      <th></th>\n",
       "      <th></th>\n",
       "      <th></th>\n",
       "      <th></th>\n",
       "      <th></th>\n",
       "    </tr>\n",
       "  </thead>\n",
       "  <tbody>\n",
       "    <tr>\n",
       "      <th>2008</th>\n",
       "      <td>14394</td>\n",
       "      <td>10869</td>\n",
       "      <td>11295</td>\n",
       "      <td>12222</td>\n",
       "      <td>29266</td>\n",
       "    </tr>\n",
       "    <tr>\n",
       "      <th>2009</th>\n",
       "      <td>15537</td>\n",
       "      <td>10812</td>\n",
       "      <td>10632</td>\n",
       "      <td>10450</td>\n",
       "      <td>29967</td>\n",
       "    </tr>\n",
       "    <tr>\n",
       "      <th>2010</th>\n",
       "      <td>16425</td>\n",
       "      <td>11989</td>\n",
       "      <td>12184</td>\n",
       "      <td>11180</td>\n",
       "      <td>29191</td>\n",
       "    </tr>\n",
       "    <tr>\n",
       "      <th>2011</th>\n",
       "      <td>18573</td>\n",
       "      <td>13374</td>\n",
       "      <td>11464</td>\n",
       "      <td>12513</td>\n",
       "      <td>33529</td>\n",
       "    </tr>\n",
       "    <tr>\n",
       "      <th>2012</th>\n",
       "      <td>17717</td>\n",
       "      <td>15095</td>\n",
       "      <td>13416</td>\n",
       "      <td>13200</td>\n",
       "      <td>38152</td>\n",
       "    </tr>\n",
       "    <tr>\n",
       "      <th>2013</th>\n",
       "      <td>15767</td>\n",
       "      <td>13995</td>\n",
       "      <td>12271</td>\n",
       "      <td>13689</td>\n",
       "      <td>33868</td>\n",
       "    </tr>\n",
       "    <tr>\n",
       "      <th>2014</th>\n",
       "      <td>13640</td>\n",
       "      <td>12647</td>\n",
       "      <td>11499</td>\n",
       "      <td>11377</td>\n",
       "      <td>28144</td>\n",
       "    </tr>\n",
       "    <tr>\n",
       "      <th>2015</th>\n",
       "      <td>14455</td>\n",
       "      <td>12963</td>\n",
       "      <td>11421</td>\n",
       "      <td>11855</td>\n",
       "      <td>27980</td>\n",
       "    </tr>\n",
       "    <tr>\n",
       "      <th>2016</th>\n",
       "      <td>14088</td>\n",
       "      <td>13155</td>\n",
       "      <td>11964</td>\n",
       "      <td>12946</td>\n",
       "      <td>27520</td>\n",
       "    </tr>\n",
       "  </tbody>\n",
       "</table>\n",
       "</div>"
      ],
      "text/plain": [
       "borough  Camden  Lambeth  Newham  Southwark  Westminster\n",
       "year                                                    \n",
       "2008      14394    10869   11295      12222        29266\n",
       "2009      15537    10812   10632      10450        29967\n",
       "2010      16425    11989   12184      11180        29191\n",
       "2011      18573    13374   11464      12513        33529\n",
       "2012      17717    15095   13416      13200        38152\n",
       "2013      15767    13995   12271      13689        33868\n",
       "2014      13640    12647   11499      11377        28144\n",
       "2015      14455    12963   11421      11855        27980\n",
       "2016      14088    13155   11964      12946        27520"
      ]
     },
     "execution_count": 22,
     "metadata": {},
     "output_type": "execute_result"
    }
   ],
   "source": [
    "pivot"
   ]
  },
  {
   "cell_type": "code",
   "execution_count": 23,
   "id": "df939ef8",
   "metadata": {},
   "outputs": [],
   "source": [
    "count, bin_edges=np.histogram(pivot,15)"
   ]
  },
  {
   "cell_type": "markdown",
   "id": "2d7e0900",
   "metadata": {},
   "source": [
    "## Histogram"
   ]
  },
  {
   "cell_type": "code",
   "execution_count": 24,
   "id": "1cd1ea33",
   "metadata": {
    "scrolled": true
   },
   "outputs": [
    {
     "data": {
      "image/png": "[encoded data removed]",
      "text/plain": [
       "<Figure size 720x432 with 1 Axes>"
      ]
     },
     "metadata": {},
     "output_type": "display_data"
    }
   ],
   "source": [
    "pivot.plot(kind='hist', figsize=(10,6), bins=15, alpha=0.6, xticks=bin_edges)\n",
    "plt.title('Histogram Total Crimes in Top 5 London Borough from 2008 to 2016', fontsize=20, y=1.0)\n",
    "plt.xlabel('Number of Crimes', fontsize=14, color='black')\n",
    "plt.ylabel('Frequency', fontsize=14, color='black')\n",
    "plt.show()"
   ]
  },
  {
   "cell_type": "markdown",
   "id": "e4f9d39d",
   "metadata": {},
   "source": [
    "Terlihat dari histogram di atas menunjukkan persebaran data untuk top 5 wilayah di London yaitu Westminster, Southwark, Newham, Lambeth dan Camden dalam rentang tahun 2008-2016. Dapat dilihat data untuk kelima wilayah tersebut tidak tersebar secara merata karena datanya bertumpuk hanya terpusat atau tertumpuk di satu area range saja. Untuk data Southwark dapat diketahui bahwa ada sebanyak 8 data yang berada pada range 10450-12297 yang artinya di setiap tahun 2008 hingga 2016 angka kejahatan di kota tersebut berada dalam rentang 10450-12297. Hal yang sama juga ditunjukkan oleh data wilayah Camden untuk kota tersebut terletak pada range 12297-14144, dari histogram tersebut juga diketahui bahwa wilayah Westminster yang memiliki total kasus kejahatan terbanyak."
   ]
  },
  {
   "cell_type": "markdown",
   "id": "ac5775cb",
   "metadata": {},
   "source": [
    "## Bar Chart Vertikal"
   ]
  },
  {
   "cell_type": "code",
   "execution_count": 25,
   "id": "5d925aad",
   "metadata": {},
   "outputs": [
    {
     "data": {
      "text/plain": [
       "year\n",
       "2008    29266\n",
       "2009    29967\n",
       "2010    29191\n",
       "2011    33529\n",
       "2012    38152\n",
       "2013    33868\n",
       "2014    28144\n",
       "2015    27980\n",
       "2016    27520\n",
       "Name: Westminster, dtype: int64"
      ]
     },
     "execution_count": 25,
     "metadata": {},
     "output_type": "execute_result"
    }
   ],
   "source": [
    "westminster = pivot['Westminster']\n",
    "westminster"
   ]
  },
  {
   "cell_type": "code",
   "execution_count": 26,
   "id": "41635971",
   "metadata": {},
   "outputs": [
    {
     "data": {
      "image/png": "[encoded data removed]",
      "text/plain": [
       "<Figure size 576x432 with 1 Axes>"
      ]
     },
     "metadata": {},
     "output_type": "display_data"
    }
   ],
   "source": [
    "westminster.plot(kind='bar', figsize=(8,6), color='darkslateblue')\n",
    "plt.title('Bar Plot of Total Crimes in Westminster Borough in 2008 to 2016')\n",
    "plt.xlabel('Year', color='black', fontsize=14)\n",
    "plt.ylabel('Number of Crimes', color='black', fontsize=14)\n",
    "plt.show()"
   ]
  },
  {
   "cell_type": "markdown",
   "id": "90c3bee3",
   "metadata": {},
   "source": [
    "Dari Bar Plot wilayah Westminster pada tahun 2008 hingga tahun 2016 terlihat bahwa total crimes sempat melonjak pada tahun 2010-2012 hingga sejumlah 38.152 total crimes, namun pada tahun setelahnya mengalami penurunan lagi menjadi +- 30.000 total crimes"
   ]
  },
  {
   "cell_type": "markdown",
   "id": "9dfd0b05",
   "metadata": {},
   "source": [
    "## Bar Chart Horizontal"
   ]
  },
  {
   "cell_type": "code",
   "execution_count": 27,
   "id": "e1febf03",
   "metadata": {
    "scrolled": true
   },
   "outputs": [
    {
     "data": {
      "text/plain": [
       "borough\n",
       "Hillingdon       209680\n",
       "Barnet           212191\n",
       "Haringey         213272\n",
       "Lewisham         215137\n",
       "Hackney          217119\n",
       "Brent            227551\n",
       "Tower Hamlets    228613\n",
       "Islington        230286\n",
       "Ealing           251562\n",
       "Croydon          260294\n",
       "Newham           262024\n",
       "Camden           275147\n",
       "Southwark        278809\n",
       "Lambeth          292178\n",
       "Westminster      455028\n",
       "Name: value, dtype: int64"
      ]
     },
     "execution_count": 27,
     "metadata": {},
     "output_type": "execute_result"
    }
   ],
   "source": [
    "borough_max.sort_values(by='value', ascending=True, inplace=True)\n",
    "borough_max_top15 = borough_max['value'].tail(15)\n",
    "borough_max_top15"
   ]
  },
  {
   "cell_type": "code",
   "execution_count": 28,
   "id": "70347dc5",
   "metadata": {},
   "outputs": [
    {
     "data": {
      "image/png": "[encoded data removed]",
      "text/plain": [
       "<Figure size 864x864 with 1 Axes>"
      ]
     },
     "metadata": {},
     "output_type": "display_data"
    }
   ],
   "source": [
    "borough_max_top15.plot(kind='barh', figsize=(12,12), color='darkslateblue')\n",
    "plt.xlabel('Number of Crimes', color='black', fontsize=14)\n",
    "plt.ylabel('Borough', color='black', fontsize=14)\n",
    "plt.title('Top 15 Borough Contributing to Total Crimes in London 2008-2016', y=1.02)\n",
    "plt.show()"
   ]
  },
  {
   "cell_type": "markdown",
   "id": "a35b8003",
   "metadata": {},
   "source": [
    "Dari bar chart horizontal diatas diketahui bahwa wilayah yang paling banyak menyumbah jumlah kriminalitas di london pada tahun 2008-2016 yaitu wilayah Westminster, disusul dengan wilayah Lambeth, dan lainnya."
   ]
  },
  {
   "cell_type": "markdown",
   "id": "d31b582b",
   "metadata": {},
   "source": [
    "# Pie Plot"
   ]
  },
  {
   "cell_type": "code",
   "execution_count": 29,
   "id": "00048630",
   "metadata": {},
   "outputs": [],
   "source": [
    "colors_list=['yellow','darkslateblue','coral','gold','lightgreen','skyblue','brown','red','pink']\n",
    "explode_list=[0,0,0.09,0.15,0.08,0.07,0.05,0.048,0]"
   ]
  },
  {
   "cell_type": "code",
   "execution_count": 30,
   "id": "32d19982",
   "metadata": {},
   "outputs": [
    {
     "data": {
      "image/png": "[encoded data removed]",
      "text/plain": [
       "<Figure size 936x432 with 1 Axes>"
      ]
     },
     "metadata": {},
     "output_type": "display_data"
    }
   ],
   "source": [
    "major_category_max['value'].plot(kind='pie',\n",
    "                                figsize=(13,6),\n",
    "                                autopct='%1.1f%%',\n",
    "                                startangle=10,\n",
    "                                colors=colors_list,\n",
    "                                labels=None,\n",
    "                                explode=explode_list,\n",
    "                                pctdistance=1.12,\n",
    "                                shadow=True)\n",
    "plt.title('Total Crimes in London by Major Category', y=1.05)\n",
    "plt.ylabel('Total Value', fontsize=15, color='black')\n",
    "plt.legend(labels=major_category_max.index, loc='upper left')\n",
    "plt.axis('equal')\n",
    "plt.show()"
   ]
  },
  {
   "cell_type": "markdown",
   "id": "58ad0f26",
   "metadata": {},
   "source": [
    "Dari Pie Plot Total Crimes in London by Major Category diatas dapat diketahui bahwa kriminalitas yang paling banyak terjadi di London yaitu Theft and Handling sebesar 41,3% dengan total 2.661.861 kasus dan yang paling terendah yaitu Sexual Offences karena nilainya sangat kecil dibanding dengan Major Category yg lain maka persentasenya mendekati 0 dengan total kasus sebanyak 1273."
   ]
  },
  {
   "cell_type": "markdown",
   "id": "fd836f56",
   "metadata": {},
   "source": [
    "## Box Plot"
   ]
  },
  {
   "cell_type": "code",
   "execution_count": 31,
   "id": "418838e0",
   "metadata": {
    "scrolled": true
   },
   "outputs": [
    {
     "data": {
      "text/html": [
       "<div>\n",
       "<style scoped>\n",
       "    .dataframe tbody tr th:only-of-type {\n",
       "        vertical-align: middle;\n",
       "    }\n",
       "\n",
       "    .dataframe tbody tr th {\n",
       "        vertical-align: top;\n",
       "    }\n",
       "\n",
       "    .dataframe thead th {\n",
       "        text-align: right;\n",
       "    }\n",
       "</style>\n",
       "<table border=\"1\" class=\"dataframe\">\n",
       "  <thead>\n",
       "    <tr style=\"text-align: right;\">\n",
       "      <th>borough</th>\n",
       "      <th>Camden</th>\n",
       "      <th>Lambeth</th>\n",
       "      <th>Newham</th>\n",
       "      <th>Southwark</th>\n",
       "      <th>Westminster</th>\n",
       "    </tr>\n",
       "    <tr>\n",
       "      <th>year</th>\n",
       "      <th></th>\n",
       "      <th></th>\n",
       "      <th></th>\n",
       "      <th></th>\n",
       "      <th></th>\n",
       "    </tr>\n",
       "  </thead>\n",
       "  <tbody>\n",
       "    <tr>\n",
       "      <th>2008</th>\n",
       "      <td>14394</td>\n",
       "      <td>10869</td>\n",
       "      <td>11295</td>\n",
       "      <td>12222</td>\n",
       "      <td>29266</td>\n",
       "    </tr>\n",
       "    <tr>\n",
       "      <th>2009</th>\n",
       "      <td>15537</td>\n",
       "      <td>10812</td>\n",
       "      <td>10632</td>\n",
       "      <td>10450</td>\n",
       "      <td>29967</td>\n",
       "    </tr>\n",
       "    <tr>\n",
       "      <th>2010</th>\n",
       "      <td>16425</td>\n",
       "      <td>11989</td>\n",
       "      <td>12184</td>\n",
       "      <td>11180</td>\n",
       "      <td>29191</td>\n",
       "    </tr>\n",
       "    <tr>\n",
       "      <th>2011</th>\n",
       "      <td>18573</td>\n",
       "      <td>13374</td>\n",
       "      <td>11464</td>\n",
       "      <td>12513</td>\n",
       "      <td>33529</td>\n",
       "    </tr>\n",
       "    <tr>\n",
       "      <th>2012</th>\n",
       "      <td>17717</td>\n",
       "      <td>15095</td>\n",
       "      <td>13416</td>\n",
       "      <td>13200</td>\n",
       "      <td>38152</td>\n",
       "    </tr>\n",
       "    <tr>\n",
       "      <th>2013</th>\n",
       "      <td>15767</td>\n",
       "      <td>13995</td>\n",
       "      <td>12271</td>\n",
       "      <td>13689</td>\n",
       "      <td>33868</td>\n",
       "    </tr>\n",
       "    <tr>\n",
       "      <th>2014</th>\n",
       "      <td>13640</td>\n",
       "      <td>12647</td>\n",
       "      <td>11499</td>\n",
       "      <td>11377</td>\n",
       "      <td>28144</td>\n",
       "    </tr>\n",
       "    <tr>\n",
       "      <th>2015</th>\n",
       "      <td>14455</td>\n",
       "      <td>12963</td>\n",
       "      <td>11421</td>\n",
       "      <td>11855</td>\n",
       "      <td>27980</td>\n",
       "    </tr>\n",
       "    <tr>\n",
       "      <th>2016</th>\n",
       "      <td>14088</td>\n",
       "      <td>13155</td>\n",
       "      <td>11964</td>\n",
       "      <td>12946</td>\n",
       "      <td>27520</td>\n",
       "    </tr>\n",
       "  </tbody>\n",
       "</table>\n",
       "</div>"
      ],
      "text/plain": [
       "borough  Camden  Lambeth  Newham  Southwark  Westminster\n",
       "year                                                    \n",
       "2008      14394    10869   11295      12222        29266\n",
       "2009      15537    10812   10632      10450        29967\n",
       "2010      16425    11989   12184      11180        29191\n",
       "2011      18573    13374   11464      12513        33529\n",
       "2012      17717    15095   13416      13200        38152\n",
       "2013      15767    13995   12271      13689        33868\n",
       "2014      13640    12647   11499      11377        28144\n",
       "2015      14455    12963   11421      11855        27980\n",
       "2016      14088    13155   11964      12946        27520"
      ]
     },
     "execution_count": 31,
     "metadata": {},
     "output_type": "execute_result"
    }
   ],
   "source": [
    "pivot"
   ]
  },
  {
   "cell_type": "code",
   "execution_count": 32,
   "id": "5b6647e3",
   "metadata": {},
   "outputs": [
    {
     "data": {
      "text/html": [
       "<div>\n",
       "<style scoped>\n",
       "    .dataframe tbody tr th:only-of-type {\n",
       "        vertical-align: middle;\n",
       "    }\n",
       "\n",
       "    .dataframe tbody tr th {\n",
       "        vertical-align: top;\n",
       "    }\n",
       "\n",
       "    .dataframe thead th {\n",
       "        text-align: right;\n",
       "    }\n",
       "</style>\n",
       "<table border=\"1\" class=\"dataframe\">\n",
       "  <thead>\n",
       "    <tr style=\"text-align: right;\">\n",
       "      <th>borough</th>\n",
       "      <th>Camden</th>\n",
       "      <th>Lambeth</th>\n",
       "      <th>Newham</th>\n",
       "      <th>Southwark</th>\n",
       "      <th>Westminster</th>\n",
       "    </tr>\n",
       "  </thead>\n",
       "  <tbody>\n",
       "    <tr>\n",
       "      <th>count</th>\n",
       "      <td>9.000000</td>\n",
       "      <td>9.000000</td>\n",
       "      <td>9.000000</td>\n",
       "      <td>9.000000</td>\n",
       "      <td>9.000000</td>\n",
       "    </tr>\n",
       "    <tr>\n",
       "      <th>mean</th>\n",
       "      <td>15621.777778</td>\n",
       "      <td>12766.555556</td>\n",
       "      <td>11794.000000</td>\n",
       "      <td>12159.111111</td>\n",
       "      <td>30846.333333</td>\n",
       "    </tr>\n",
       "    <tr>\n",
       "      <th>std</th>\n",
       "      <td>1692.698938</td>\n",
       "      <td>1393.246578</td>\n",
       "      <td>788.488427</td>\n",
       "      <td>1046.201277</td>\n",
       "      <td>3575.851472</td>\n",
       "    </tr>\n",
       "    <tr>\n",
       "      <th>min</th>\n",
       "      <td>13640.000000</td>\n",
       "      <td>10812.000000</td>\n",
       "      <td>10632.000000</td>\n",
       "      <td>10450.000000</td>\n",
       "      <td>27520.000000</td>\n",
       "    </tr>\n",
       "    <tr>\n",
       "      <th>25%</th>\n",
       "      <td>14394.000000</td>\n",
       "      <td>11989.000000</td>\n",
       "      <td>11421.000000</td>\n",
       "      <td>11377.000000</td>\n",
       "      <td>28144.000000</td>\n",
       "    </tr>\n",
       "    <tr>\n",
       "      <th>50%</th>\n",
       "      <td>15537.000000</td>\n",
       "      <td>12963.000000</td>\n",
       "      <td>11499.000000</td>\n",
       "      <td>12222.000000</td>\n",
       "      <td>29266.000000</td>\n",
       "    </tr>\n",
       "    <tr>\n",
       "      <th>75%</th>\n",
       "      <td>16425.000000</td>\n",
       "      <td>13374.000000</td>\n",
       "      <td>12184.000000</td>\n",
       "      <td>12946.000000</td>\n",
       "      <td>33529.000000</td>\n",
       "    </tr>\n",
       "    <tr>\n",
       "      <th>max</th>\n",
       "      <td>18573.000000</td>\n",
       "      <td>15095.000000</td>\n",
       "      <td>13416.000000</td>\n",
       "      <td>13689.000000</td>\n",
       "      <td>38152.000000</td>\n",
       "    </tr>\n",
       "  </tbody>\n",
       "</table>\n",
       "</div>"
      ],
      "text/plain": [
       "borough        Camden       Lambeth        Newham     Southwark   Westminster\n",
       "count        9.000000      9.000000      9.000000      9.000000      9.000000\n",
       "mean     15621.777778  12766.555556  11794.000000  12159.111111  30846.333333\n",
       "std       1692.698938   1393.246578    788.488427   1046.201277   3575.851472\n",
       "min      13640.000000  10812.000000  10632.000000  10450.000000  27520.000000\n",
       "25%      14394.000000  11989.000000  11421.000000  11377.000000  28144.000000\n",
       "50%      15537.000000  12963.000000  11499.000000  12222.000000  29266.000000\n",
       "75%      16425.000000  13374.000000  12184.000000  12946.000000  33529.000000\n",
       "max      18573.000000  15095.000000  13416.000000  13689.000000  38152.000000"
      ]
     },
     "execution_count": 32,
     "metadata": {},
     "output_type": "execute_result"
    }
   ],
   "source": [
    "pivot.describe()"
   ]
  },
  {
   "cell_type": "code",
   "execution_count": 33,
   "id": "fca8f4ec",
   "metadata": {},
   "outputs": [
    {
     "data": {
      "image/png": "[encoded data removed]",
      "text/plain": [
       "<Figure size 720x576 with 1 Axes>"
      ]
     },
     "metadata": {},
     "output_type": "display_data"
    }
   ],
   "source": [
    "pivot.plot(kind='box', figsize=(10,8), vert=False, color='darkslateblue')\n",
    "plt.title('Compare Box Plot Total Crimes from Top 5 Borough in London', fontsize=20, y=1.03)\n",
    "plt.xlabel('Number of Crimes', fontsize=14, color='black')\n",
    "plt.ylabel('Borough', fontsize=14, color='black')\n",
    "plt.show()"
   ]
  },
  {
   "cell_type": "markdown",
   "id": "70015edd",
   "metadata": {},
   "source": [
    "Dari Box Plot total crimes dari top 5 wilayah di London, terlihat bahwa masing-masing wilayah tidak memiliki rata-rata atau mean yang seragam dengan yang lainnya, terlihat bahwa box plot dari 5 wilayah tersebut skewed ke kanan dan ke kiri, hanya wilayah Southwark dam Camden yang Skewednya hampir menuju normal, dan dari 5 wilayah tersebut terdapat pencilan pada wilayah Newham."
   ]
  },
  {
   "cell_type": "markdown",
   "id": "7a0cff5c",
   "metadata": {},
   "source": [
    "## Scatter Plot"
   ]
  },
  {
   "cell_type": "code",
   "execution_count": 34,
   "id": "5d0475f1",
   "metadata": {
    "scrolled": true
   },
   "outputs": [
    {
     "data": {
      "text/html": [
       "<div>\n",
       "<style scoped>\n",
       "    .dataframe tbody tr th:only-of-type {\n",
       "        vertical-align: middle;\n",
       "    }\n",
       "\n",
       "    .dataframe tbody tr th {\n",
       "        vertical-align: top;\n",
       "    }\n",
       "\n",
       "    .dataframe thead th {\n",
       "        text-align: right;\n",
       "    }\n",
       "</style>\n",
       "<table border=\"1\" class=\"dataframe\">\n",
       "  <thead>\n",
       "    <tr style=\"text-align: right;\">\n",
       "      <th></th>\n",
       "      <th>value</th>\n",
       "      <th>month</th>\n",
       "    </tr>\n",
       "    <tr>\n",
       "      <th>year</th>\n",
       "      <th></th>\n",
       "      <th></th>\n",
       "    </tr>\n",
       "  </thead>\n",
       "  <tbody>\n",
       "    <tr>\n",
       "      <th>2008</th>\n",
       "      <td>738641</td>\n",
       "      <td>9743214</td>\n",
       "    </tr>\n",
       "    <tr>\n",
       "      <th>2009</th>\n",
       "      <td>717214</td>\n",
       "      <td>9743214</td>\n",
       "    </tr>\n",
       "    <tr>\n",
       "      <th>2010</th>\n",
       "      <td>715324</td>\n",
       "      <td>9743214</td>\n",
       "    </tr>\n",
       "    <tr>\n",
       "      <th>2011</th>\n",
       "      <td>724915</td>\n",
       "      <td>9743214</td>\n",
       "    </tr>\n",
       "    <tr>\n",
       "      <th>2012</th>\n",
       "      <td>737329</td>\n",
       "      <td>9743214</td>\n",
       "    </tr>\n",
       "    <tr>\n",
       "      <th>2013</th>\n",
       "      <td>686407</td>\n",
       "      <td>9743214</td>\n",
       "    </tr>\n",
       "    <tr>\n",
       "      <th>2014</th>\n",
       "      <td>680183</td>\n",
       "      <td>9743214</td>\n",
       "    </tr>\n",
       "    <tr>\n",
       "      <th>2015</th>\n",
       "      <td>711624</td>\n",
       "      <td>9743214</td>\n",
       "    </tr>\n",
       "    <tr>\n",
       "      <th>2016</th>\n",
       "      <td>736121</td>\n",
       "      <td>9743214</td>\n",
       "    </tr>\n",
       "  </tbody>\n",
       "</table>\n",
       "</div>"
      ],
      "text/plain": [
       "       value    month\n",
       "year                 \n",
       "2008  738641  9743214\n",
       "2009  717214  9743214\n",
       "2010  715324  9743214\n",
       "2011  724915  9743214\n",
       "2012  737329  9743214\n",
       "2013  686407  9743214\n",
       "2014  680183  9743214\n",
       "2015  711624  9743214\n",
       "2016  736121  9743214"
      ]
     },
     "execution_count": 34,
     "metadata": {},
     "output_type": "execute_result"
    }
   ],
   "source": [
    "total"
   ]
  },
  {
   "cell_type": "code",
   "execution_count": 35,
   "id": "05917be9",
   "metadata": {},
   "outputs": [],
   "source": [
    "total.reset_index(inplace=True)"
   ]
  },
  {
   "cell_type": "code",
   "execution_count": 36,
   "id": "3e29a729",
   "metadata": {},
   "outputs": [
    {
     "data": {
      "text/html": [
       "<div>\n",
       "<style scoped>\n",
       "    .dataframe tbody tr th:only-of-type {\n",
       "        vertical-align: middle;\n",
       "    }\n",
       "\n",
       "    .dataframe tbody tr th {\n",
       "        vertical-align: top;\n",
       "    }\n",
       "\n",
       "    .dataframe thead th {\n",
       "        text-align: right;\n",
       "    }\n",
       "</style>\n",
       "<table border=\"1\" class=\"dataframe\">\n",
       "  <thead>\n",
       "    <tr style=\"text-align: right;\">\n",
       "      <th></th>\n",
       "      <th>year</th>\n",
       "      <th>value</th>\n",
       "      <th>month</th>\n",
       "    </tr>\n",
       "  </thead>\n",
       "  <tbody>\n",
       "    <tr>\n",
       "      <th>0</th>\n",
       "      <td>2008</td>\n",
       "      <td>738641</td>\n",
       "      <td>9743214</td>\n",
       "    </tr>\n",
       "    <tr>\n",
       "      <th>1</th>\n",
       "      <td>2009</td>\n",
       "      <td>717214</td>\n",
       "      <td>9743214</td>\n",
       "    </tr>\n",
       "    <tr>\n",
       "      <th>2</th>\n",
       "      <td>2010</td>\n",
       "      <td>715324</td>\n",
       "      <td>9743214</td>\n",
       "    </tr>\n",
       "    <tr>\n",
       "      <th>3</th>\n",
       "      <td>2011</td>\n",
       "      <td>724915</td>\n",
       "      <td>9743214</td>\n",
       "    </tr>\n",
       "    <tr>\n",
       "      <th>4</th>\n",
       "      <td>2012</td>\n",
       "      <td>737329</td>\n",
       "      <td>9743214</td>\n",
       "    </tr>\n",
       "    <tr>\n",
       "      <th>5</th>\n",
       "      <td>2013</td>\n",
       "      <td>686407</td>\n",
       "      <td>9743214</td>\n",
       "    </tr>\n",
       "    <tr>\n",
       "      <th>6</th>\n",
       "      <td>2014</td>\n",
       "      <td>680183</td>\n",
       "      <td>9743214</td>\n",
       "    </tr>\n",
       "    <tr>\n",
       "      <th>7</th>\n",
       "      <td>2015</td>\n",
       "      <td>711624</td>\n",
       "      <td>9743214</td>\n",
       "    </tr>\n",
       "    <tr>\n",
       "      <th>8</th>\n",
       "      <td>2016</td>\n",
       "      <td>736121</td>\n",
       "      <td>9743214</td>\n",
       "    </tr>\n",
       "  </tbody>\n",
       "</table>\n",
       "</div>"
      ],
      "text/plain": [
       "   year   value    month\n",
       "0  2008  738641  9743214\n",
       "1  2009  717214  9743214\n",
       "2  2010  715324  9743214\n",
       "3  2011  724915  9743214\n",
       "4  2012  737329  9743214\n",
       "5  2013  686407  9743214\n",
       "6  2014  680183  9743214\n",
       "7  2015  711624  9743214\n",
       "8  2016  736121  9743214"
      ]
     },
     "execution_count": 36,
     "metadata": {},
     "output_type": "execute_result"
    }
   ],
   "source": [
    "total"
   ]
  },
  {
   "cell_type": "code",
   "execution_count": 37,
   "id": "8d9383cb",
   "metadata": {},
   "outputs": [],
   "source": [
    "total_month = df.groupby('month').sum()\n",
    "total_month.drop(columns='year', inplace=True)\n",
    "total_month.reset_index(inplace=True)"
   ]
  },
  {
   "cell_type": "code",
   "execution_count": 38,
   "id": "09bef344",
   "metadata": {},
   "outputs": [
    {
     "data": {
      "text/html": [
       "<div>\n",
       "<style scoped>\n",
       "    .dataframe tbody tr th:only-of-type {\n",
       "        vertical-align: middle;\n",
       "    }\n",
       "\n",
       "    .dataframe tbody tr th {\n",
       "        vertical-align: top;\n",
       "    }\n",
       "\n",
       "    .dataframe thead th {\n",
       "        text-align: right;\n",
       "    }\n",
       "</style>\n",
       "<table border=\"1\" class=\"dataframe\">\n",
       "  <thead>\n",
       "    <tr style=\"text-align: right;\">\n",
       "      <th></th>\n",
       "      <th>month</th>\n",
       "      <th>value</th>\n",
       "    </tr>\n",
       "  </thead>\n",
       "  <tbody>\n",
       "    <tr>\n",
       "      <th>0</th>\n",
       "      <td>1</td>\n",
       "      <td>530247</td>\n",
       "    </tr>\n",
       "    <tr>\n",
       "      <th>1</th>\n",
       "      <td>2</td>\n",
       "      <td>500537</td>\n",
       "    </tr>\n",
       "    <tr>\n",
       "      <th>2</th>\n",
       "      <td>3</td>\n",
       "      <td>551795</td>\n",
       "    </tr>\n",
       "    <tr>\n",
       "      <th>3</th>\n",
       "      <td>4</td>\n",
       "      <td>520648</td>\n",
       "    </tr>\n",
       "    <tr>\n",
       "      <th>4</th>\n",
       "      <td>5</td>\n",
       "      <td>552704</td>\n",
       "    </tr>\n",
       "    <tr>\n",
       "      <th>5</th>\n",
       "      <td>6</td>\n",
       "      <td>549041</td>\n",
       "    </tr>\n",
       "    <tr>\n",
       "      <th>6</th>\n",
       "      <td>7</td>\n",
       "      <td>563076</td>\n",
       "    </tr>\n",
       "    <tr>\n",
       "      <th>7</th>\n",
       "      <td>8</td>\n",
       "      <td>532784</td>\n",
       "    </tr>\n",
       "    <tr>\n",
       "      <th>8</th>\n",
       "      <td>9</td>\n",
       "      <td>522377</td>\n",
       "    </tr>\n",
       "    <tr>\n",
       "      <th>9</th>\n",
       "      <td>10</td>\n",
       "      <td>558252</td>\n",
       "    </tr>\n",
       "    <tr>\n",
       "      <th>10</th>\n",
       "      <td>11</td>\n",
       "      <td>549671</td>\n",
       "    </tr>\n",
       "    <tr>\n",
       "      <th>11</th>\n",
       "      <td>12</td>\n",
       "      <td>516626</td>\n",
       "    </tr>\n",
       "  </tbody>\n",
       "</table>\n",
       "</div>"
      ],
      "text/plain": [
       "    month   value\n",
       "0       1  530247\n",
       "1       2  500537\n",
       "2       3  551795\n",
       "3       4  520648\n",
       "4       5  552704\n",
       "5       6  549041\n",
       "6       7  563076\n",
       "7       8  532784\n",
       "8       9  522377\n",
       "9      10  558252\n",
       "10     11  549671\n",
       "11     12  516626"
      ]
     },
     "execution_count": 38,
     "metadata": {},
     "output_type": "execute_result"
    }
   ],
   "source": [
    "total_month"
   ]
  },
  {
   "cell_type": "code",
   "execution_count": 39,
   "id": "b5db0654",
   "metadata": {},
   "outputs": [
    {
     "data": {
      "image/png": "[encoded data removed]",
      "text/plain": [
       "<Figure size 720x432 with 1 Axes>"
      ]
     },
     "metadata": {},
     "output_type": "display_data"
    }
   ],
   "source": [
    "total_month.plot(kind='scatter', x='month',y='value', figsize=(10,6), color='darkslateblue')\n",
    "plt.title('Scatter Plot Total Crimes in London from 2008 to 2016 by Month', y=1.02)\n",
    "plt.xlabel('Month', color='black', fontsize=14)\n",
    "plt.ylabel('Number of Crimes', color='black', fontsize=14)\n",
    "plt.show()"
   ]
  },
  {
   "cell_type": "markdown",
   "id": "70a94bba",
   "metadata": {},
   "source": [
    "Dari scatter plot diatas sumbu x mewakili periode perbulan dari data dan sumbu y mewakili jumlah kejahatan (crimes) yang terjadi di London pada tahun 2008 to 2016 terlihat bahwa tidak ada korelasi antar variabel."
   ]
  },
  {
   "cell_type": "markdown",
   "id": "43e2ef3f",
   "metadata": {},
   "source": [
    "## Word Clouds"
   ]
  },
  {
   "cell_type": "code",
   "execution_count": null,
   "id": "e3414611",
   "metadata": {
    "scrolled": false
   },
   "outputs": [],
   "source": [
    "# Import Workcloud Libraries\n",
    "from wordcloud import WordCloud, STOPWORDS\n",
    "from PIL import Image\n",
    "import numpy as np\n",
    "from PIL import Image\n",
    "import matplotlib as mpl\n",
    "import matplotlib.pyplot as plt\n",
    "text_london = \" \".join(borough for borough in df['borough'])\n",
    "stopwords = set(STOPWORDS)\n",
    "# Load the London image to use as the wordcloud mask\n",
    "england_mask = np.array(Image.open(\"england masking.png\"))\n",
    "# Create the wordcloud object\n",
    "wc = WordCloud(background_color=\"white\", max_words=1000, mask=england_mask, stopwords=stopwords, contour_width=3, contour_color='steelblue')\n",
    "# Generate the wordcloud\n",
    "wc.generate(text_london)\n",
    "# Plot the wordcloud\n",
    "plt.figure(figsize=[10,10])\n",
    "plt.imshow(wc, interpolation='bilinear')\n",
    "plt.axis(\"off\")\n",
    "plt.show()"
   ]
  },
  {
   "cell_type": "markdown",
   "id": "4e82b5f5",
   "metadata": {},
   "source": [
    "Terlihat dari hasil WordClouds diatas bahwa Waltham Forest dan Tower Hamlets Borough yang paling sering muncul pada kolom borough pada dataset."
   ]
  },
  {
   "cell_type": "markdown",
   "id": "352c7a7f",
   "metadata": {},
   "source": [
    "## CHOROPLETH MAP"
   ]
  },
  {
   "cell_type": "markdown",
   "id": "a3c45e3a",
   "metadata": {},
   "source": [
    "### PLOTLY"
   ]
  },
  {
   "cell_type": "code",
   "execution_count": null,
   "id": "6ee6c721",
   "metadata": {},
   "outputs": [],
   "source": [
    "borough_max"
   ]
  },
  {
   "cell_type": "code",
   "execution_count": null,
   "id": "9e80adae",
   "metadata": {},
   "outputs": [],
   "source": [
    "borough_max.reset_index(inplace=True)"
   ]
  },
  {
   "cell_type": "code",
   "execution_count": null,
   "id": "5009118c",
   "metadata": {},
   "outputs": [],
   "source": [
    "import json\n",
    "import plotly.express as px"
   ]
  },
  {
   "cell_type": "code",
   "execution_count": null,
   "id": "7fa82439",
   "metadata": {},
   "outputs": [],
   "source": [
    "import plotly.io as pio\n",
    "pio.renderers.default = 'notebook_connected'"
   ]
  },
  {
   "cell_type": "code",
   "execution_count": null,
   "id": "391d658f",
   "metadata": {},
   "outputs": [],
   "source": [
    "london_boroughs = json.load(open(\"london_boroughs.json\",'r'))"
   ]
  },
  {
   "cell_type": "code",
   "execution_count": null,
   "id": "6754ddd3",
   "metadata": {},
   "outputs": [],
   "source": [
    "london_boroughs['features'][1]['properties']"
   ]
  },
  {
   "cell_type": "code",
   "execution_count": null,
   "id": "16baf78b",
   "metadata": {},
   "outputs": [],
   "source": [
    "london_id_map = {}\n",
    "for feature in london_boroughs['features']:\n",
    "    feature['id'] = feature['properties']['code']\n",
    "    london_id_map[feature['properties']['name']] = feature['id']"
   ]
  },
  {
   "cell_type": "code",
   "execution_count": null,
   "id": "67733598",
   "metadata": {},
   "outputs": [],
   "source": [
    "borough_max['id'] = borough_max['borough'].apply(lambda x: london_id_map[x])"
   ]
  },
  {
   "cell_type": "code",
   "execution_count": null,
   "id": "2d850671",
   "metadata": {},
   "outputs": [],
   "source": [
    "london_area_map= {}\n",
    "for feature in london_boroughs['features']:\n",
    "    feature['area'] = feature['properties']['area_hectares']\n",
    "    london_area_map[feature['properties']['name']] = feature['area']"
   ]
  },
  {
   "cell_type": "code",
   "execution_count": null,
   "id": "57f40c1b",
   "metadata": {},
   "outputs": [],
   "source": [
    "borough_max['area'] = borough_max['borough'].apply(lambda x: london_area_map[x])"
   ]
  },
  {
   "cell_type": "code",
   "execution_count": null,
   "id": "113a63c3",
   "metadata": {},
   "outputs": [],
   "source": [
    "borough_max.reset_index(inplace=True)"
   ]
  },
  {
   "cell_type": "code",
   "execution_count": null,
   "id": "6e4d2cb4",
   "metadata": {},
   "outputs": [],
   "source": [
    "fig = px.choropleth(borough_max, \n",
    "                    locations='id',\n",
    "                    geojson=london_boroughs,\n",
    "                    color='value',\n",
    "                    hover_name='borough',\n",
    "                    hover_data=['area'],\n",
    "                    color_continuous_scale=px.colors.diverging.BrBG,\n",
    "                    color_continuous_midpoint=0,)\n",
    "fig.update_geos(fitbounds=\"locations\", visible=False)\n",
    "fig.show()"
   ]
  },
  {
   "cell_type": "markdown",
   "id": "27d1fa67",
   "metadata": {},
   "source": [
    "Berikut merupakan hasil dari Choropleth map dengan menggunakan Plotly terlihat bahwa Westminster merupakan Borough di London yang memiliki jumlah total kasus kejahatan terbesar pada tahun 2008-2016 dengan jumlah kasus sebanyak 455.028. Sehingga dapat disimpulkan bahwa Westminster menjadi borough yang tidak aman di London."
   ]
  },
  {
   "cell_type": "markdown",
   "id": "72aece97",
   "metadata": {},
   "source": [
    "### FOLIUM"
   ]
  },
  {
   "cell_type": "code",
   "execution_count": null,
   "id": "54fc433c",
   "metadata": {},
   "outputs": [],
   "source": [
    "import folium \n",
    "import json\n",
    "import requests\n",
    "import pandas as pd\n",
    "import matplotlib.pyplot as plt\n",
    "import branca \n",
    "import seaborn as sns\n",
    "import numpy as np"
   ]
  },
  {
   "cell_type": "code",
   "execution_count": null,
   "id": "e5506034",
   "metadata": {},
   "outputs": [],
   "source": [
    "borough_geo = json.load(open(\"london_boroughs.json\",'r'))"
   ]
  },
  {
   "cell_type": "code",
   "execution_count": null,
   "id": "af0148a9",
   "metadata": {},
   "outputs": [],
   "source": [
    "london_boroughs = folium.Map(location=[51.5085300, -0.1257400], zoom_start=8, tiles= 'CartoDB positron')"
   ]
  },
  {
   "cell_type": "code",
   "execution_count": null,
   "id": "c20d8552",
   "metadata": {},
   "outputs": [],
   "source": [
    "london_boroughs"
   ]
  },
  {
   "cell_type": "code",
   "execution_count": null,
   "id": "fb332417",
   "metadata": {
    "scrolled": true
   },
   "outputs": [],
   "source": [
    "folium.Choropleth(\n",
    "    geo_data=borough_geo,\n",
    "    name='choropleth',\n",
    "    data=borough_max,\n",
    "    key_on='feature.properties.code',\n",
    "    columns=['id','value'],\n",
    "    nan_fill_color='White',\n",
    "    fill_opacity=0.7,\n",
    "    line_opacity=0.9,\n",
    "    legend_name='Total Crimes in London 2008-2016',\n",
    "    fill_color = 'YlGnBu',\n",
    "    line_color='black',\n",
    "    line_weight=0.3,\n",
    "    highlight=True\n",
    ").add_to(london_boroughs)\n",
    "\n",
    "london_boroughs"
   ]
  },
  {
   "cell_type": "markdown",
   "id": "069cf189",
   "metadata": {},
   "source": [
    "Dari hasil output Choropleth Map dengan menggunakan folium diatas terlihat bahwa Westminster merupakan borough yang paling banyak menyumbang kasus kejahatan di London pada tahun 2008-2016, sehingga menjadikan kota tersebut tidak aman."
   ]
  },
  {
   "cell_type": "markdown",
   "id": "562e9d67",
   "metadata": {},
   "source": [
    "**KESIMPULAN**"
   ]
  },
  {
   "cell_type": "markdown",
   "id": "6492b162",
   "metadata": {},
   "source": [
    "Dari hasil analisa diatas terkait data Crimes In London pada tahun 2008-2016 terlihat bahwa total kasus kejahatan di London sempat mengalami penurunan yang signifikan pada tahun 2012-2013, namun ditahun selanjutnya total kasus melonjak secara drastis hingga tahun 2016 (terlihat dari Line Plot) dengan total rata-rata kasus kejahatan di London dari tahun 2008-2016 yaitu sebesar 716.417 kasus. Terlihat juga dari hasil analisa bahwa major of category atau kejahatan yang paling banyak terjadi di London yaitu tindak kejahatan pencurian atau Theft and Handling (terlihat pada pie plot). Dan didapatkan juga borough yang paling banyak terjadi kasus kejahatan yaitu Westminster, sehingga menjadikan wilayah tersebut tidak aman. Sehingga disarankan untuk pihak kepolisian London untuk dapat lebih ketat dalam menjaga wilayah Westminster tersebut."
   ]
  },
  {
   "cell_type": "code",
   "execution_count": null,
   "id": "deb7ae1b",
   "metadata": {},
   "outputs": [],
   "source": []
  }
 ],
 "metadata": {
  "kernelspec": {
   "display_name": "Python 3 (ipykernel)",
   "language": "python",
   "name": "python3"
  },
  "language_info": {
   "codemirror_mode": {
    "name": "ipython",
    "version": 3
   },
   "file_extension": ".py",
   "mimetype": "text/x-python",
   "name": "python",
   "nbconvert_exporter": "python",
   "pygments_lexer": "ipython3",
   "version": "3.9.12"
  }
 },
 "nbformat": 4,
 "nbformat_minor": 5
}
